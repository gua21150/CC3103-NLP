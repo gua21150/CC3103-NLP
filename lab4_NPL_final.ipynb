{
 "cells": [
  {
   "cell_type": "code",
   "execution_count": 1,
   "metadata": {
    "id": "uF3xXv-u0J9I",
    "is_executing": true
   },
   "outputs": [],
   "source": [
    "import re\n",
    "from collections import defaultdict\n",
    "import math\n",
    "import pandas as pd"
   ]
  },
  {
   "cell_type": "code",
   "execution_count": 2,
   "metadata": {
    "id": "IbM4GV5P0RXm"
   },
   "outputs": [],
   "source": [
    "# Paso 1: Definir el corpus (texto de Kafka)\n",
    "corpus = \"\"\"One morning, when Gregor Samsa woke from troubled dreams, he found\n",
    "himself transformed in his bed into a horrible vermin. He lay on his\n",
    "armour-like back, and if he lifted his head a little he could see his\n",
    "brown belly, slightly domed and divided by arches into stiff sections.\n",
    "The bedding was hardly able to cover it and seemed ready to slide off\n",
    "any moment. His many legs, pitifully thin compared with the size of the\n",
    "rest of him, waved about helplessly as he looked.\n",
    "\n",
    "“What’s happened to me?” he thought. It wasn’t a dream. His room, a\n",
    "proper human room although a little too small, lay peacefully between\n",
    "its four familiar walls. A collection of textile samples lay spread out\n",
    "on the table—Samsa was a travelling salesman—and above it there hung a\n",
    "picture that he had recently cut out of an illustrated magazine and\n",
    "housed in a nice, gilded frame. It showed a lady fitted out with a fur\n",
    "hat and fur boa who sat upright, raising a heavy fur muff that covered\n",
    "the whole of her lower arm towards the viewer.\n",
    "\n",
    "Gregor then turned to look out the window at the dull weather. Drops of\n",
    "rain could be heard hitting the pane, which made him feel quite sad.\n",
    "“How about if I sleep a little bit longer and forget all this\n",
    "nonsense”, he thought, but that was something he was unable to do\n",
    "because he was used to sleeping on his right, and in his present state\n",
    "couldn’t get into that position. However hard he threw himself onto his\n",
    "right, he always rolled back to where he was. He must have tried it a\n",
    "hundred times, shut his eyes so that he wouldn’t have to look at the\n",
    "floundering legs, and only stopped when he began to feel a mild, dull\n",
    "pain there that he had never felt before.\n",
    "\"\"\""
   ]
  },
  {
   "cell_type": "markdown",
   "metadata": {},
   "source": [
    "N-Gramas"
   ]
  },
  {
   "cell_type": "code",
   "execution_count": 3,
   "metadata": {},
   "outputs": [],
   "source": [
    "# Funcion para generar n-gramas\n",
    "def ngram_tokenize(text, n=2):\n",
    "    tokens = re.findall(r\"\\b\\w+\\b\", text.lower())\n",
    "    if n == 1:\n",
    "        return tokens\n",
    "    else:\n",
    "        ngrams = list(zip(*[tokens[i:] for i in range(n)]))\n",
    "    return ngrams"
   ]
  },
  {
   "cell_type": "code",
   "execution_count": 4,
   "metadata": {
    "colab": {
     "base_uri": "https://localhost:8080/"
    },
    "id": "QIAbkAmu0Urh",
    "outputId": "427e056e-7ae5-4d5a-fb52-17a1d96f480c"
   },
   "outputs": [
    {
     "name": "stdout",
     "output_type": "stream",
     "text": [
      "Lista de unigramas:\n",
      "['one', 'morning', 'when', 'gregor', 'samsa', 'woke', 'from', 'troubled', 'dreams', 'he', 'found', 'himself', 'transformed', 'in', 'his', 'bed', 'into', 'a', 'horrible', 'vermin', 'he', 'lay', 'on', 'his', 'armour', 'like', 'back', 'and', 'if', 'he', 'lifted', 'his', 'head', 'a', 'little', 'he', 'could', 'see', 'his', 'brown', 'belly', 'slightly', 'domed', 'and', 'divided', 'by', 'arches', 'into', 'stiff', 'sections', 'the', 'bedding', 'was', 'hardly', 'able', 'to', 'cover', 'it', 'and', 'seemed', 'ready', 'to', 'slide', 'off', 'any', 'moment', 'his', 'many', 'legs', 'pitifully', 'thin', 'compared', 'with', 'the', 'size', 'of', 'the', 'rest', 'of', 'him', 'waved', 'about', 'helplessly', 'as', 'he', 'looked', 'what', 's', 'happened', 'to', 'me', 'he', 'thought', 'it', 'wasn', 't', 'a', 'dream', 'his', 'room', 'a', 'proper', 'human', 'room', 'although', 'a', 'little', 'too', 'small', 'lay', 'peacefully', 'between', 'its', 'four', 'familiar', 'walls', 'a', 'collection', 'of', 'textile', 'samples', 'lay', 'spread', 'out', 'on', 'the', 'table', 'samsa', 'was', 'a', 'travelling', 'salesman', 'and', 'above', 'it', 'there', 'hung', 'a', 'picture', 'that', 'he', 'had', 'recently', 'cut', 'out', 'of', 'an', 'illustrated', 'magazine', 'and', 'housed', 'in', 'a', 'nice', 'gilded', 'frame', 'it', 'showed', 'a', 'lady', 'fitted', 'out', 'with', 'a', 'fur', 'hat', 'and', 'fur', 'boa', 'who', 'sat', 'upright', 'raising', 'a', 'heavy', 'fur', 'muff', 'that', 'covered', 'the', 'whole', 'of', 'her', 'lower', 'arm', 'towards', 'the', 'viewer', 'gregor', 'then', 'turned', 'to', 'look', 'out', 'the', 'window', 'at', 'the', 'dull', 'weather', 'drops', 'of', 'rain', 'could', 'be', 'heard', 'hitting', 'the', 'pane', 'which', 'made', 'him', 'feel', 'quite', 'sad', 'how', 'about', 'if', 'i', 'sleep', 'a', 'little', 'bit', 'longer', 'and', 'forget', 'all', 'this', 'nonsense', 'he', 'thought', 'but', 'that', 'was', 'something', 'he', 'was', 'unable', 'to', 'do', 'because', 'he', 'was', 'used', 'to', 'sleeping', 'on', 'his', 'right', 'and', 'in', 'his', 'present', 'state', 'couldn', 't', 'get', 'into', 'that', 'position', 'however', 'hard', 'he', 'threw', 'himself', 'onto', 'his', 'right', 'he', 'always', 'rolled', 'back', 'to', 'where', 'he', 'was', 'he', 'must', 'have', 'tried', 'it', 'a', 'hundred', 'times', 'shut', 'his', 'eyes', 'so', 'that', 'he', 'wouldn', 't', 'have', 'to', 'look', 'at', 'the', 'floundering', 'legs', 'and', 'only', 'stopped', 'when', 'he', 'began', 'to', 'feel', 'a', 'mild', 'dull', 'pain', 'there', 'that', 'he', 'had', 'never', 'felt', 'before']\n",
      "Lista de bigramas:\n",
      "[('one', 'morning'), ('morning', 'when'), ('when', 'gregor'), ('gregor', 'samsa'), ('samsa', 'woke'), ('woke', 'from'), ('from', 'troubled'), ('troubled', 'dreams'), ('dreams', 'he'), ('he', 'found'), ('found', 'himself'), ('himself', 'transformed'), ('transformed', 'in'), ('in', 'his'), ('his', 'bed'), ('bed', 'into'), ('into', 'a'), ('a', 'horrible'), ('horrible', 'vermin'), ('vermin', 'he'), ('he', 'lay'), ('lay', 'on'), ('on', 'his'), ('his', 'armour'), ('armour', 'like'), ('like', 'back'), ('back', 'and'), ('and', 'if'), ('if', 'he'), ('he', 'lifted'), ('lifted', 'his'), ('his', 'head'), ('head', 'a'), ('a', 'little'), ('little', 'he'), ('he', 'could'), ('could', 'see'), ('see', 'his'), ('his', 'brown'), ('brown', 'belly'), ('belly', 'slightly'), ('slightly', 'domed'), ('domed', 'and'), ('and', 'divided'), ('divided', 'by'), ('by', 'arches'), ('arches', 'into'), ('into', 'stiff'), ('stiff', 'sections'), ('sections', 'the'), ('the', 'bedding'), ('bedding', 'was'), ('was', 'hardly'), ('hardly', 'able'), ('able', 'to'), ('to', 'cover'), ('cover', 'it'), ('it', 'and'), ('and', 'seemed'), ('seemed', 'ready'), ('ready', 'to'), ('to', 'slide'), ('slide', 'off'), ('off', 'any'), ('any', 'moment'), ('moment', 'his'), ('his', 'many'), ('many', 'legs'), ('legs', 'pitifully'), ('pitifully', 'thin'), ('thin', 'compared'), ('compared', 'with'), ('with', 'the'), ('the', 'size'), ('size', 'of'), ('of', 'the'), ('the', 'rest'), ('rest', 'of'), ('of', 'him'), ('him', 'waved'), ('waved', 'about'), ('about', 'helplessly'), ('helplessly', 'as'), ('as', 'he'), ('he', 'looked'), ('looked', 'what'), ('what', 's'), ('s', 'happened'), ('happened', 'to'), ('to', 'me'), ('me', 'he'), ('he', 'thought'), ('thought', 'it'), ('it', 'wasn'), ('wasn', 't'), ('t', 'a'), ('a', 'dream'), ('dream', 'his'), ('his', 'room'), ('room', 'a'), ('a', 'proper'), ('proper', 'human'), ('human', 'room'), ('room', 'although'), ('although', 'a'), ('a', 'little'), ('little', 'too'), ('too', 'small'), ('small', 'lay'), ('lay', 'peacefully'), ('peacefully', 'between'), ('between', 'its'), ('its', 'four'), ('four', 'familiar'), ('familiar', 'walls'), ('walls', 'a'), ('a', 'collection'), ('collection', 'of'), ('of', 'textile'), ('textile', 'samples'), ('samples', 'lay'), ('lay', 'spread'), ('spread', 'out'), ('out', 'on'), ('on', 'the'), ('the', 'table'), ('table', 'samsa'), ('samsa', 'was'), ('was', 'a'), ('a', 'travelling'), ('travelling', 'salesman'), ('salesman', 'and'), ('and', 'above'), ('above', 'it'), ('it', 'there'), ('there', 'hung'), ('hung', 'a'), ('a', 'picture'), ('picture', 'that'), ('that', 'he'), ('he', 'had'), ('had', 'recently'), ('recently', 'cut'), ('cut', 'out'), ('out', 'of'), ('of', 'an'), ('an', 'illustrated'), ('illustrated', 'magazine'), ('magazine', 'and'), ('and', 'housed'), ('housed', 'in'), ('in', 'a'), ('a', 'nice'), ('nice', 'gilded'), ('gilded', 'frame'), ('frame', 'it'), ('it', 'showed'), ('showed', 'a'), ('a', 'lady'), ('lady', 'fitted'), ('fitted', 'out'), ('out', 'with'), ('with', 'a'), ('a', 'fur'), ('fur', 'hat'), ('hat', 'and'), ('and', 'fur'), ('fur', 'boa'), ('boa', 'who'), ('who', 'sat'), ('sat', 'upright'), ('upright', 'raising'), ('raising', 'a'), ('a', 'heavy'), ('heavy', 'fur'), ('fur', 'muff'), ('muff', 'that'), ('that', 'covered'), ('covered', 'the'), ('the', 'whole'), ('whole', 'of'), ('of', 'her'), ('her', 'lower'), ('lower', 'arm'), ('arm', 'towards'), ('towards', 'the'), ('the', 'viewer'), ('viewer', 'gregor'), ('gregor', 'then'), ('then', 'turned'), ('turned', 'to'), ('to', 'look'), ('look', 'out'), ('out', 'the'), ('the', 'window'), ('window', 'at'), ('at', 'the'), ('the', 'dull'), ('dull', 'weather'), ('weather', 'drops'), ('drops', 'of'), ('of', 'rain'), ('rain', 'could'), ('could', 'be'), ('be', 'heard'), ('heard', 'hitting'), ('hitting', 'the'), ('the', 'pane'), ('pane', 'which'), ('which', 'made'), ('made', 'him'), ('him', 'feel'), ('feel', 'quite'), ('quite', 'sad'), ('sad', 'how'), ('how', 'about'), ('about', 'if'), ('if', 'i'), ('i', 'sleep'), ('sleep', 'a'), ('a', 'little'), ('little', 'bit'), ('bit', 'longer'), ('longer', 'and'), ('and', 'forget'), ('forget', 'all'), ('all', 'this'), ('this', 'nonsense'), ('nonsense', 'he'), ('he', 'thought'), ('thought', 'but'), ('but', 'that'), ('that', 'was'), ('was', 'something'), ('something', 'he'), ('he', 'was'), ('was', 'unable'), ('unable', 'to'), ('to', 'do'), ('do', 'because'), ('because', 'he'), ('he', 'was'), ('was', 'used'), ('used', 'to'), ('to', 'sleeping'), ('sleeping', 'on'), ('on', 'his'), ('his', 'right'), ('right', 'and'), ('and', 'in'), ('in', 'his'), ('his', 'present'), ('present', 'state'), ('state', 'couldn'), ('couldn', 't'), ('t', 'get'), ('get', 'into'), ('into', 'that'), ('that', 'position'), ('position', 'however'), ('however', 'hard'), ('hard', 'he'), ('he', 'threw'), ('threw', 'himself'), ('himself', 'onto'), ('onto', 'his'), ('his', 'right'), ('right', 'he'), ('he', 'always'), ('always', 'rolled'), ('rolled', 'back'), ('back', 'to'), ('to', 'where'), ('where', 'he'), ('he', 'was'), ('was', 'he'), ('he', 'must'), ('must', 'have'), ('have', 'tried'), ('tried', 'it'), ('it', 'a'), ('a', 'hundred'), ('hundred', 'times'), ('times', 'shut'), ('shut', 'his'), ('his', 'eyes'), ('eyes', 'so'), ('so', 'that'), ('that', 'he'), ('he', 'wouldn'), ('wouldn', 't'), ('t', 'have'), ('have', 'to'), ('to', 'look'), ('look', 'at'), ('at', 'the'), ('the', 'floundering'), ('floundering', 'legs'), ('legs', 'and'), ('and', 'only'), ('only', 'stopped'), ('stopped', 'when'), ('when', 'he'), ('he', 'began'), ('began', 'to'), ('to', 'feel'), ('feel', 'a'), ('a', 'mild'), ('mild', 'dull'), ('dull', 'pain'), ('pain', 'there'), ('there', 'that'), ('that', 'he'), ('he', 'had'), ('had', 'never'), ('never', 'felt'), ('felt', 'before')]\n",
      "Lista de trigramas:\n",
      "[('one', 'morning', 'when'), ('morning', 'when', 'gregor'), ('when', 'gregor', 'samsa'), ('gregor', 'samsa', 'woke'), ('samsa', 'woke', 'from'), ('woke', 'from', 'troubled'), ('from', 'troubled', 'dreams'), ('troubled', 'dreams', 'he'), ('dreams', 'he', 'found'), ('he', 'found', 'himself'), ('found', 'himself', 'transformed'), ('himself', 'transformed', 'in'), ('transformed', 'in', 'his'), ('in', 'his', 'bed'), ('his', 'bed', 'into'), ('bed', 'into', 'a'), ('into', 'a', 'horrible'), ('a', 'horrible', 'vermin'), ('horrible', 'vermin', 'he'), ('vermin', 'he', 'lay'), ('he', 'lay', 'on'), ('lay', 'on', 'his'), ('on', 'his', 'armour'), ('his', 'armour', 'like'), ('armour', 'like', 'back'), ('like', 'back', 'and'), ('back', 'and', 'if'), ('and', 'if', 'he'), ('if', 'he', 'lifted'), ('he', 'lifted', 'his'), ('lifted', 'his', 'head'), ('his', 'head', 'a'), ('head', 'a', 'little'), ('a', 'little', 'he'), ('little', 'he', 'could'), ('he', 'could', 'see'), ('could', 'see', 'his'), ('see', 'his', 'brown'), ('his', 'brown', 'belly'), ('brown', 'belly', 'slightly'), ('belly', 'slightly', 'domed'), ('slightly', 'domed', 'and'), ('domed', 'and', 'divided'), ('and', 'divided', 'by'), ('divided', 'by', 'arches'), ('by', 'arches', 'into'), ('arches', 'into', 'stiff'), ('into', 'stiff', 'sections'), ('stiff', 'sections', 'the'), ('sections', 'the', 'bedding'), ('the', 'bedding', 'was'), ('bedding', 'was', 'hardly'), ('was', 'hardly', 'able'), ('hardly', 'able', 'to'), ('able', 'to', 'cover'), ('to', 'cover', 'it'), ('cover', 'it', 'and'), ('it', 'and', 'seemed'), ('and', 'seemed', 'ready'), ('seemed', 'ready', 'to'), ('ready', 'to', 'slide'), ('to', 'slide', 'off'), ('slide', 'off', 'any'), ('off', 'any', 'moment'), ('any', 'moment', 'his'), ('moment', 'his', 'many'), ('his', 'many', 'legs'), ('many', 'legs', 'pitifully'), ('legs', 'pitifully', 'thin'), ('pitifully', 'thin', 'compared'), ('thin', 'compared', 'with'), ('compared', 'with', 'the'), ('with', 'the', 'size'), ('the', 'size', 'of'), ('size', 'of', 'the'), ('of', 'the', 'rest'), ('the', 'rest', 'of'), ('rest', 'of', 'him'), ('of', 'him', 'waved'), ('him', 'waved', 'about'), ('waved', 'about', 'helplessly'), ('about', 'helplessly', 'as'), ('helplessly', 'as', 'he'), ('as', 'he', 'looked'), ('he', 'looked', 'what'), ('looked', 'what', 's'), ('what', 's', 'happened'), ('s', 'happened', 'to'), ('happened', 'to', 'me'), ('to', 'me', 'he'), ('me', 'he', 'thought'), ('he', 'thought', 'it'), ('thought', 'it', 'wasn'), ('it', 'wasn', 't'), ('wasn', 't', 'a'), ('t', 'a', 'dream'), ('a', 'dream', 'his'), ('dream', 'his', 'room'), ('his', 'room', 'a'), ('room', 'a', 'proper'), ('a', 'proper', 'human'), ('proper', 'human', 'room'), ('human', 'room', 'although'), ('room', 'although', 'a'), ('although', 'a', 'little'), ('a', 'little', 'too'), ('little', 'too', 'small'), ('too', 'small', 'lay'), ('small', 'lay', 'peacefully'), ('lay', 'peacefully', 'between'), ('peacefully', 'between', 'its'), ('between', 'its', 'four'), ('its', 'four', 'familiar'), ('four', 'familiar', 'walls'), ('familiar', 'walls', 'a'), ('walls', 'a', 'collection'), ('a', 'collection', 'of'), ('collection', 'of', 'textile'), ('of', 'textile', 'samples'), ('textile', 'samples', 'lay'), ('samples', 'lay', 'spread'), ('lay', 'spread', 'out'), ('spread', 'out', 'on'), ('out', 'on', 'the'), ('on', 'the', 'table'), ('the', 'table', 'samsa'), ('table', 'samsa', 'was'), ('samsa', 'was', 'a'), ('was', 'a', 'travelling'), ('a', 'travelling', 'salesman'), ('travelling', 'salesman', 'and'), ('salesman', 'and', 'above'), ('and', 'above', 'it'), ('above', 'it', 'there'), ('it', 'there', 'hung'), ('there', 'hung', 'a'), ('hung', 'a', 'picture'), ('a', 'picture', 'that'), ('picture', 'that', 'he'), ('that', 'he', 'had'), ('he', 'had', 'recently'), ('had', 'recently', 'cut'), ('recently', 'cut', 'out'), ('cut', 'out', 'of'), ('out', 'of', 'an'), ('of', 'an', 'illustrated'), ('an', 'illustrated', 'magazine'), ('illustrated', 'magazine', 'and'), ('magazine', 'and', 'housed'), ('and', 'housed', 'in'), ('housed', 'in', 'a'), ('in', 'a', 'nice'), ('a', 'nice', 'gilded'), ('nice', 'gilded', 'frame'), ('gilded', 'frame', 'it'), ('frame', 'it', 'showed'), ('it', 'showed', 'a'), ('showed', 'a', 'lady'), ('a', 'lady', 'fitted'), ('lady', 'fitted', 'out'), ('fitted', 'out', 'with'), ('out', 'with', 'a'), ('with', 'a', 'fur'), ('a', 'fur', 'hat'), ('fur', 'hat', 'and'), ('hat', 'and', 'fur'), ('and', 'fur', 'boa'), ('fur', 'boa', 'who'), ('boa', 'who', 'sat'), ('who', 'sat', 'upright'), ('sat', 'upright', 'raising'), ('upright', 'raising', 'a'), ('raising', 'a', 'heavy'), ('a', 'heavy', 'fur'), ('heavy', 'fur', 'muff'), ('fur', 'muff', 'that'), ('muff', 'that', 'covered'), ('that', 'covered', 'the'), ('covered', 'the', 'whole'), ('the', 'whole', 'of'), ('whole', 'of', 'her'), ('of', 'her', 'lower'), ('her', 'lower', 'arm'), ('lower', 'arm', 'towards'), ('arm', 'towards', 'the'), ('towards', 'the', 'viewer'), ('the', 'viewer', 'gregor'), ('viewer', 'gregor', 'then'), ('gregor', 'then', 'turned'), ('then', 'turned', 'to'), ('turned', 'to', 'look'), ('to', 'look', 'out'), ('look', 'out', 'the'), ('out', 'the', 'window'), ('the', 'window', 'at'), ('window', 'at', 'the'), ('at', 'the', 'dull'), ('the', 'dull', 'weather'), ('dull', 'weather', 'drops'), ('weather', 'drops', 'of'), ('drops', 'of', 'rain'), ('of', 'rain', 'could'), ('rain', 'could', 'be'), ('could', 'be', 'heard'), ('be', 'heard', 'hitting'), ('heard', 'hitting', 'the'), ('hitting', 'the', 'pane'), ('the', 'pane', 'which'), ('pane', 'which', 'made'), ('which', 'made', 'him'), ('made', 'him', 'feel'), ('him', 'feel', 'quite'), ('feel', 'quite', 'sad'), ('quite', 'sad', 'how'), ('sad', 'how', 'about'), ('how', 'about', 'if'), ('about', 'if', 'i'), ('if', 'i', 'sleep'), ('i', 'sleep', 'a'), ('sleep', 'a', 'little'), ('a', 'little', 'bit'), ('little', 'bit', 'longer'), ('bit', 'longer', 'and'), ('longer', 'and', 'forget'), ('and', 'forget', 'all'), ('forget', 'all', 'this'), ('all', 'this', 'nonsense'), ('this', 'nonsense', 'he'), ('nonsense', 'he', 'thought'), ('he', 'thought', 'but'), ('thought', 'but', 'that'), ('but', 'that', 'was'), ('that', 'was', 'something'), ('was', 'something', 'he'), ('something', 'he', 'was'), ('he', 'was', 'unable'), ('was', 'unable', 'to'), ('unable', 'to', 'do'), ('to', 'do', 'because'), ('do', 'because', 'he'), ('because', 'he', 'was'), ('he', 'was', 'used'), ('was', 'used', 'to'), ('used', 'to', 'sleeping'), ('to', 'sleeping', 'on'), ('sleeping', 'on', 'his'), ('on', 'his', 'right'), ('his', 'right', 'and'), ('right', 'and', 'in'), ('and', 'in', 'his'), ('in', 'his', 'present'), ('his', 'present', 'state'), ('present', 'state', 'couldn'), ('state', 'couldn', 't'), ('couldn', 't', 'get'), ('t', 'get', 'into'), ('get', 'into', 'that'), ('into', 'that', 'position'), ('that', 'position', 'however'), ('position', 'however', 'hard'), ('however', 'hard', 'he'), ('hard', 'he', 'threw'), ('he', 'threw', 'himself'), ('threw', 'himself', 'onto'), ('himself', 'onto', 'his'), ('onto', 'his', 'right'), ('his', 'right', 'he'), ('right', 'he', 'always'), ('he', 'always', 'rolled'), ('always', 'rolled', 'back'), ('rolled', 'back', 'to'), ('back', 'to', 'where'), ('to', 'where', 'he'), ('where', 'he', 'was'), ('he', 'was', 'he'), ('was', 'he', 'must'), ('he', 'must', 'have'), ('must', 'have', 'tried'), ('have', 'tried', 'it'), ('tried', 'it', 'a'), ('it', 'a', 'hundred'), ('a', 'hundred', 'times'), ('hundred', 'times', 'shut'), ('times', 'shut', 'his'), ('shut', 'his', 'eyes'), ('his', 'eyes', 'so'), ('eyes', 'so', 'that'), ('so', 'that', 'he'), ('that', 'he', 'wouldn'), ('he', 'wouldn', 't'), ('wouldn', 't', 'have'), ('t', 'have', 'to'), ('have', 'to', 'look'), ('to', 'look', 'at'), ('look', 'at', 'the'), ('at', 'the', 'floundering'), ('the', 'floundering', 'legs'), ('floundering', 'legs', 'and'), ('legs', 'and', 'only'), ('and', 'only', 'stopped'), ('only', 'stopped', 'when'), ('stopped', 'when', 'he'), ('when', 'he', 'began'), ('he', 'began', 'to'), ('began', 'to', 'feel'), ('to', 'feel', 'a'), ('feel', 'a', 'mild'), ('a', 'mild', 'dull'), ('mild', 'dull', 'pain'), ('dull', 'pain', 'there'), ('pain', 'there', 'that'), ('there', 'that', 'he'), ('that', 'he', 'had'), ('he', 'had', 'never'), ('had', 'never', 'felt'), ('never', 'felt', 'before')]\n"
     ]
    }
   ],
   "source": [
    "# Paso 1.2: Tokenización y creación de ngramas   \n",
    "unigrams = ngram_tokenize(corpus, n=1)\n",
    "print(\"Lista de unigramas:\")\n",
    "print(unigrams)\n",
    "bigrams = ngram_tokenize(corpus, n=2)\n",
    "print(\"Lista de bigramas:\")\n",
    "print(bigrams)\n",
    "trigrams = ngram_tokenize(corpus, n=3)\n",
    "print(\"Lista de trigramas:\")\n",
    "print(trigrams)"
   ]
  },
  {
   "cell_type": "markdown",
   "metadata": {},
   "source": [
    "Entropia y perplejidad"
   ]
  },
  {
   "cell_type": "code",
   "execution_count": 5,
   "metadata": {
    "colab": {
     "base_uri": "https://localhost:8080/"
    },
    "id": "SHYNI_bC0YUk",
    "outputId": "b05ba378-825f-43af-a3d6-394d9aef80ae"
   },
   "outputs": [
    {
     "name": "stdout",
     "output_type": "stream",
     "text": [
      "\n",
      "Conteo de unigramas:\n",
      "defaultdict(<class 'int'>, {'one': 1, 'morning': 1, 'when': 2, 'gregor': 2, 'samsa': 2, 'woke': 1, 'from': 1, 'troubled': 1, 'dreams': 1, 'he': 17, 'found': 1, 'himself': 2, 'transformed': 1, 'in': 3, 'his': 10, 'bed': 1, 'into': 3, 'a': 15, 'horrible': 1, 'vermin': 1, 'lay': 3, 'on': 3, 'armour': 1, 'like': 1, 'back': 2, 'and': 9, 'if': 2, 'lifted': 1, 'head': 1, 'little': 3, 'could': 2, 'see': 1, 'brown': 1, 'belly': 1, 'slightly': 1, 'domed': 1, 'divided': 1, 'by': 1, 'arches': 1, 'stiff': 1, 'sections': 1, 'the': 10, 'bedding': 1, 'was': 6, 'hardly': 1, 'able': 1, 'to': 9, 'cover': 1, 'it': 5, 'seemed': 1, 'ready': 1, 'slide': 1, 'off': 1, 'any': 1, 'moment': 1, 'many': 1, 'legs': 2, 'pitifully': 1, 'thin': 1, 'compared': 1, 'with': 2, 'size': 1, 'of': 6, 'rest': 1, 'him': 2, 'waved': 1, 'about': 2, 'helplessly': 1, 'as': 1, 'looked': 1, 'what': 1, 's': 1, 'happened': 1, 'me': 1, 'thought': 2, 'wasn': 1, 't': 3, 'dream': 1, 'room': 2, 'proper': 1, 'human': 1, 'although': 1, 'too': 1, 'small': 1, 'peacefully': 1, 'between': 1, 'its': 1, 'four': 1, 'familiar': 1, 'walls': 1, 'collection': 1, 'textile': 1, 'samples': 1, 'spread': 1, 'out': 4, 'table': 1, 'travelling': 1, 'salesman': 1, 'above': 1, 'there': 2, 'hung': 1, 'picture': 1, 'that': 6, 'had': 2, 'recently': 1, 'cut': 1, 'an': 1, 'illustrated': 1, 'magazine': 1, 'housed': 1, 'nice': 1, 'gilded': 1, 'frame': 1, 'showed': 1, 'lady': 1, 'fitted': 1, 'fur': 3, 'hat': 1, 'boa': 1, 'who': 1, 'sat': 1, 'upright': 1, 'raising': 1, 'heavy': 1, 'muff': 1, 'covered': 1, 'whole': 1, 'her': 1, 'lower': 1, 'arm': 1, 'towards': 1, 'viewer': 1, 'then': 1, 'turned': 1, 'look': 2, 'window': 1, 'at': 2, 'dull': 2, 'weather': 1, 'drops': 1, 'rain': 1, 'be': 1, 'heard': 1, 'hitting': 1, 'pane': 1, 'which': 1, 'made': 1, 'feel': 2, 'quite': 1, 'sad': 1, 'how': 1, 'i': 1, 'sleep': 1, 'bit': 1, 'longer': 1, 'forget': 1, 'all': 1, 'this': 1, 'nonsense': 1, 'but': 1, 'something': 1, 'unable': 1, 'do': 1, 'because': 1, 'used': 1, 'sleeping': 1, 'right': 2, 'present': 1, 'state': 1, 'couldn': 1, 'get': 1, 'position': 1, 'however': 1, 'hard': 1, 'threw': 1, 'onto': 1, 'always': 1, 'rolled': 1, 'where': 1, 'must': 1, 'have': 2, 'tried': 1, 'hundred': 1, 'times': 1, 'shut': 1, 'eyes': 1, 'so': 1, 'wouldn': 1, 'floundering': 1, 'only': 1, 'stopped': 1, 'began': 1, 'mild': 1, 'pain': 1, 'never': 1, 'felt': 1, 'before': 1})\n",
      "\n",
      "Conteo de bigramas:\n",
      "defaultdict(<class 'int'>, {('one', 'morning'): 1, ('morning', 'when'): 1, ('when', 'gregor'): 1, ('gregor', 'samsa'): 1, ('samsa', 'woke'): 1, ('woke', 'from'): 1, ('from', 'troubled'): 1, ('troubled', 'dreams'): 1, ('dreams', 'he'): 1, ('he', 'found'): 1, ('found', 'himself'): 1, ('himself', 'transformed'): 1, ('transformed', 'in'): 1, ('in', 'his'): 2, ('his', 'bed'): 1, ('bed', 'into'): 1, ('into', 'a'): 1, ('a', 'horrible'): 1, ('horrible', 'vermin'): 1, ('vermin', 'he'): 1, ('he', 'lay'): 1, ('lay', 'on'): 1, ('on', 'his'): 2, ('his', 'armour'): 1, ('armour', 'like'): 1, ('like', 'back'): 1, ('back', 'and'): 1, ('and', 'if'): 1, ('if', 'he'): 1, ('he', 'lifted'): 1, ('lifted', 'his'): 1, ('his', 'head'): 1, ('head', 'a'): 1, ('a', 'little'): 3, ('little', 'he'): 1, ('he', 'could'): 1, ('could', 'see'): 1, ('see', 'his'): 1, ('his', 'brown'): 1, ('brown', 'belly'): 1, ('belly', 'slightly'): 1, ('slightly', 'domed'): 1, ('domed', 'and'): 1, ('and', 'divided'): 1, ('divided', 'by'): 1, ('by', 'arches'): 1, ('arches', 'into'): 1, ('into', 'stiff'): 1, ('stiff', 'sections'): 1, ('sections', 'the'): 1, ('the', 'bedding'): 1, ('bedding', 'was'): 1, ('was', 'hardly'): 1, ('hardly', 'able'): 1, ('able', 'to'): 1, ('to', 'cover'): 1, ('cover', 'it'): 1, ('it', 'and'): 1, ('and', 'seemed'): 1, ('seemed', 'ready'): 1, ('ready', 'to'): 1, ('to', 'slide'): 1, ('slide', 'off'): 1, ('off', 'any'): 1, ('any', 'moment'): 1, ('moment', 'his'): 1, ('his', 'many'): 1, ('many', 'legs'): 1, ('legs', 'pitifully'): 1, ('pitifully', 'thin'): 1, ('thin', 'compared'): 1, ('compared', 'with'): 1, ('with', 'the'): 1, ('the', 'size'): 1, ('size', 'of'): 1, ('of', 'the'): 1, ('the', 'rest'): 1, ('rest', 'of'): 1, ('of', 'him'): 1, ('him', 'waved'): 1, ('waved', 'about'): 1, ('about', 'helplessly'): 1, ('helplessly', 'as'): 1, ('as', 'he'): 1, ('he', 'looked'): 1, ('looked', 'what'): 1, ('what', 's'): 1, ('s', 'happened'): 1, ('happened', 'to'): 1, ('to', 'me'): 1, ('me', 'he'): 1, ('he', 'thought'): 2, ('thought', 'it'): 1, ('it', 'wasn'): 1, ('wasn', 't'): 1, ('t', 'a'): 1, ('a', 'dream'): 1, ('dream', 'his'): 1, ('his', 'room'): 1, ('room', 'a'): 1, ('a', 'proper'): 1, ('proper', 'human'): 1, ('human', 'room'): 1, ('room', 'although'): 1, ('although', 'a'): 1, ('little', 'too'): 1, ('too', 'small'): 1, ('small', 'lay'): 1, ('lay', 'peacefully'): 1, ('peacefully', 'between'): 1, ('between', 'its'): 1, ('its', 'four'): 1, ('four', 'familiar'): 1, ('familiar', 'walls'): 1, ('walls', 'a'): 1, ('a', 'collection'): 1, ('collection', 'of'): 1, ('of', 'textile'): 1, ('textile', 'samples'): 1, ('samples', 'lay'): 1, ('lay', 'spread'): 1, ('spread', 'out'): 1, ('out', 'on'): 1, ('on', 'the'): 1, ('the', 'table'): 1, ('table', 'samsa'): 1, ('samsa', 'was'): 1, ('was', 'a'): 1, ('a', 'travelling'): 1, ('travelling', 'salesman'): 1, ('salesman', 'and'): 1, ('and', 'above'): 1, ('above', 'it'): 1, ('it', 'there'): 1, ('there', 'hung'): 1, ('hung', 'a'): 1, ('a', 'picture'): 1, ('picture', 'that'): 1, ('that', 'he'): 3, ('he', 'had'): 2, ('had', 'recently'): 1, ('recently', 'cut'): 1, ('cut', 'out'): 1, ('out', 'of'): 1, ('of', 'an'): 1, ('an', 'illustrated'): 1, ('illustrated', 'magazine'): 1, ('magazine', 'and'): 1, ('and', 'housed'): 1, ('housed', 'in'): 1, ('in', 'a'): 1, ('a', 'nice'): 1, ('nice', 'gilded'): 1, ('gilded', 'frame'): 1, ('frame', 'it'): 1, ('it', 'showed'): 1, ('showed', 'a'): 1, ('a', 'lady'): 1, ('lady', 'fitted'): 1, ('fitted', 'out'): 1, ('out', 'with'): 1, ('with', 'a'): 1, ('a', 'fur'): 1, ('fur', 'hat'): 1, ('hat', 'and'): 1, ('and', 'fur'): 1, ('fur', 'boa'): 1, ('boa', 'who'): 1, ('who', 'sat'): 1, ('sat', 'upright'): 1, ('upright', 'raising'): 1, ('raising', 'a'): 1, ('a', 'heavy'): 1, ('heavy', 'fur'): 1, ('fur', 'muff'): 1, ('muff', 'that'): 1, ('that', 'covered'): 1, ('covered', 'the'): 1, ('the', 'whole'): 1, ('whole', 'of'): 1, ('of', 'her'): 1, ('her', 'lower'): 1, ('lower', 'arm'): 1, ('arm', 'towards'): 1, ('towards', 'the'): 1, ('the', 'viewer'): 1, ('viewer', 'gregor'): 1, ('gregor', 'then'): 1, ('then', 'turned'): 1, ('turned', 'to'): 1, ('to', 'look'): 2, ('look', 'out'): 1, ('out', 'the'): 1, ('the', 'window'): 1, ('window', 'at'): 1, ('at', 'the'): 2, ('the', 'dull'): 1, ('dull', 'weather'): 1, ('weather', 'drops'): 1, ('drops', 'of'): 1, ('of', 'rain'): 1, ('rain', 'could'): 1, ('could', 'be'): 1, ('be', 'heard'): 1, ('heard', 'hitting'): 1, ('hitting', 'the'): 1, ('the', 'pane'): 1, ('pane', 'which'): 1, ('which', 'made'): 1, ('made', 'him'): 1, ('him', 'feel'): 1, ('feel', 'quite'): 1, ('quite', 'sad'): 1, ('sad', 'how'): 1, ('how', 'about'): 1, ('about', 'if'): 1, ('if', 'i'): 1, ('i', 'sleep'): 1, ('sleep', 'a'): 1, ('little', 'bit'): 1, ('bit', 'longer'): 1, ('longer', 'and'): 1, ('and', 'forget'): 1, ('forget', 'all'): 1, ('all', 'this'): 1, ('this', 'nonsense'): 1, ('nonsense', 'he'): 1, ('thought', 'but'): 1, ('but', 'that'): 1, ('that', 'was'): 1, ('was', 'something'): 1, ('something', 'he'): 1, ('he', 'was'): 3, ('was', 'unable'): 1, ('unable', 'to'): 1, ('to', 'do'): 1, ('do', 'because'): 1, ('because', 'he'): 1, ('was', 'used'): 1, ('used', 'to'): 1, ('to', 'sleeping'): 1, ('sleeping', 'on'): 1, ('his', 'right'): 2, ('right', 'and'): 1, ('and', 'in'): 1, ('his', 'present'): 1, ('present', 'state'): 1, ('state', 'couldn'): 1, ('couldn', 't'): 1, ('t', 'get'): 1, ('get', 'into'): 1, ('into', 'that'): 1, ('that', 'position'): 1, ('position', 'however'): 1, ('however', 'hard'): 1, ('hard', 'he'): 1, ('he', 'threw'): 1, ('threw', 'himself'): 1, ('himself', 'onto'): 1, ('onto', 'his'): 1, ('right', 'he'): 1, ('he', 'always'): 1, ('always', 'rolled'): 1, ('rolled', 'back'): 1, ('back', 'to'): 1, ('to', 'where'): 1, ('where', 'he'): 1, ('was', 'he'): 1, ('he', 'must'): 1, ('must', 'have'): 1, ('have', 'tried'): 1, ('tried', 'it'): 1, ('it', 'a'): 1, ('a', 'hundred'): 1, ('hundred', 'times'): 1, ('times', 'shut'): 1, ('shut', 'his'): 1, ('his', 'eyes'): 1, ('eyes', 'so'): 1, ('so', 'that'): 1, ('he', 'wouldn'): 1, ('wouldn', 't'): 1, ('t', 'have'): 1, ('have', 'to'): 1, ('look', 'at'): 1, ('the', 'floundering'): 1, ('floundering', 'legs'): 1, ('legs', 'and'): 1, ('and', 'only'): 1, ('only', 'stopped'): 1, ('stopped', 'when'): 1, ('when', 'he'): 1, ('he', 'began'): 1, ('began', 'to'): 1, ('to', 'feel'): 1, ('feel', 'a'): 1, ('a', 'mild'): 1, ('mild', 'dull'): 1, ('dull', 'pain'): 1, ('pain', 'there'): 1, ('there', 'that'): 1, ('had', 'never'): 1, ('never', 'felt'): 1, ('felt', 'before'): 1})\n",
      "\n",
      "Conteo de trigramas:\n",
      "defaultdict(<class 'int'>, {('one', 'morning', 'when'): 1, ('morning', 'when', 'gregor'): 1, ('when', 'gregor', 'samsa'): 1, ('gregor', 'samsa', 'woke'): 1, ('samsa', 'woke', 'from'): 1, ('woke', 'from', 'troubled'): 1, ('from', 'troubled', 'dreams'): 1, ('troubled', 'dreams', 'he'): 1, ('dreams', 'he', 'found'): 1, ('he', 'found', 'himself'): 1, ('found', 'himself', 'transformed'): 1, ('himself', 'transformed', 'in'): 1, ('transformed', 'in', 'his'): 1, ('in', 'his', 'bed'): 1, ('his', 'bed', 'into'): 1, ('bed', 'into', 'a'): 1, ('into', 'a', 'horrible'): 1, ('a', 'horrible', 'vermin'): 1, ('horrible', 'vermin', 'he'): 1, ('vermin', 'he', 'lay'): 1, ('he', 'lay', 'on'): 1, ('lay', 'on', 'his'): 1, ('on', 'his', 'armour'): 1, ('his', 'armour', 'like'): 1, ('armour', 'like', 'back'): 1, ('like', 'back', 'and'): 1, ('back', 'and', 'if'): 1, ('and', 'if', 'he'): 1, ('if', 'he', 'lifted'): 1, ('he', 'lifted', 'his'): 1, ('lifted', 'his', 'head'): 1, ('his', 'head', 'a'): 1, ('head', 'a', 'little'): 1, ('a', 'little', 'he'): 1, ('little', 'he', 'could'): 1, ('he', 'could', 'see'): 1, ('could', 'see', 'his'): 1, ('see', 'his', 'brown'): 1, ('his', 'brown', 'belly'): 1, ('brown', 'belly', 'slightly'): 1, ('belly', 'slightly', 'domed'): 1, ('slightly', 'domed', 'and'): 1, ('domed', 'and', 'divided'): 1, ('and', 'divided', 'by'): 1, ('divided', 'by', 'arches'): 1, ('by', 'arches', 'into'): 1, ('arches', 'into', 'stiff'): 1, ('into', 'stiff', 'sections'): 1, ('stiff', 'sections', 'the'): 1, ('sections', 'the', 'bedding'): 1, ('the', 'bedding', 'was'): 1, ('bedding', 'was', 'hardly'): 1, ('was', 'hardly', 'able'): 1, ('hardly', 'able', 'to'): 1, ('able', 'to', 'cover'): 1, ('to', 'cover', 'it'): 1, ('cover', 'it', 'and'): 1, ('it', 'and', 'seemed'): 1, ('and', 'seemed', 'ready'): 1, ('seemed', 'ready', 'to'): 1, ('ready', 'to', 'slide'): 1, ('to', 'slide', 'off'): 1, ('slide', 'off', 'any'): 1, ('off', 'any', 'moment'): 1, ('any', 'moment', 'his'): 1, ('moment', 'his', 'many'): 1, ('his', 'many', 'legs'): 1, ('many', 'legs', 'pitifully'): 1, ('legs', 'pitifully', 'thin'): 1, ('pitifully', 'thin', 'compared'): 1, ('thin', 'compared', 'with'): 1, ('compared', 'with', 'the'): 1, ('with', 'the', 'size'): 1, ('the', 'size', 'of'): 1, ('size', 'of', 'the'): 1, ('of', 'the', 'rest'): 1, ('the', 'rest', 'of'): 1, ('rest', 'of', 'him'): 1, ('of', 'him', 'waved'): 1, ('him', 'waved', 'about'): 1, ('waved', 'about', 'helplessly'): 1, ('about', 'helplessly', 'as'): 1, ('helplessly', 'as', 'he'): 1, ('as', 'he', 'looked'): 1, ('he', 'looked', 'what'): 1, ('looked', 'what', 's'): 1, ('what', 's', 'happened'): 1, ('s', 'happened', 'to'): 1, ('happened', 'to', 'me'): 1, ('to', 'me', 'he'): 1, ('me', 'he', 'thought'): 1, ('he', 'thought', 'it'): 1, ('thought', 'it', 'wasn'): 1, ('it', 'wasn', 't'): 1, ('wasn', 't', 'a'): 1, ('t', 'a', 'dream'): 1, ('a', 'dream', 'his'): 1, ('dream', 'his', 'room'): 1, ('his', 'room', 'a'): 1, ('room', 'a', 'proper'): 1, ('a', 'proper', 'human'): 1, ('proper', 'human', 'room'): 1, ('human', 'room', 'although'): 1, ('room', 'although', 'a'): 1, ('although', 'a', 'little'): 1, ('a', 'little', 'too'): 1, ('little', 'too', 'small'): 1, ('too', 'small', 'lay'): 1, ('small', 'lay', 'peacefully'): 1, ('lay', 'peacefully', 'between'): 1, ('peacefully', 'between', 'its'): 1, ('between', 'its', 'four'): 1, ('its', 'four', 'familiar'): 1, ('four', 'familiar', 'walls'): 1, ('familiar', 'walls', 'a'): 1, ('walls', 'a', 'collection'): 1, ('a', 'collection', 'of'): 1, ('collection', 'of', 'textile'): 1, ('of', 'textile', 'samples'): 1, ('textile', 'samples', 'lay'): 1, ('samples', 'lay', 'spread'): 1, ('lay', 'spread', 'out'): 1, ('spread', 'out', 'on'): 1, ('out', 'on', 'the'): 1, ('on', 'the', 'table'): 1, ('the', 'table', 'samsa'): 1, ('table', 'samsa', 'was'): 1, ('samsa', 'was', 'a'): 1, ('was', 'a', 'travelling'): 1, ('a', 'travelling', 'salesman'): 1, ('travelling', 'salesman', 'and'): 1, ('salesman', 'and', 'above'): 1, ('and', 'above', 'it'): 1, ('above', 'it', 'there'): 1, ('it', 'there', 'hung'): 1, ('there', 'hung', 'a'): 1, ('hung', 'a', 'picture'): 1, ('a', 'picture', 'that'): 1, ('picture', 'that', 'he'): 1, ('that', 'he', 'had'): 2, ('he', 'had', 'recently'): 1, ('had', 'recently', 'cut'): 1, ('recently', 'cut', 'out'): 1, ('cut', 'out', 'of'): 1, ('out', 'of', 'an'): 1, ('of', 'an', 'illustrated'): 1, ('an', 'illustrated', 'magazine'): 1, ('illustrated', 'magazine', 'and'): 1, ('magazine', 'and', 'housed'): 1, ('and', 'housed', 'in'): 1, ('housed', 'in', 'a'): 1, ('in', 'a', 'nice'): 1, ('a', 'nice', 'gilded'): 1, ('nice', 'gilded', 'frame'): 1, ('gilded', 'frame', 'it'): 1, ('frame', 'it', 'showed'): 1, ('it', 'showed', 'a'): 1, ('showed', 'a', 'lady'): 1, ('a', 'lady', 'fitted'): 1, ('lady', 'fitted', 'out'): 1, ('fitted', 'out', 'with'): 1, ('out', 'with', 'a'): 1, ('with', 'a', 'fur'): 1, ('a', 'fur', 'hat'): 1, ('fur', 'hat', 'and'): 1, ('hat', 'and', 'fur'): 1, ('and', 'fur', 'boa'): 1, ('fur', 'boa', 'who'): 1, ('boa', 'who', 'sat'): 1, ('who', 'sat', 'upright'): 1, ('sat', 'upright', 'raising'): 1, ('upright', 'raising', 'a'): 1, ('raising', 'a', 'heavy'): 1, ('a', 'heavy', 'fur'): 1, ('heavy', 'fur', 'muff'): 1, ('fur', 'muff', 'that'): 1, ('muff', 'that', 'covered'): 1, ('that', 'covered', 'the'): 1, ('covered', 'the', 'whole'): 1, ('the', 'whole', 'of'): 1, ('whole', 'of', 'her'): 1, ('of', 'her', 'lower'): 1, ('her', 'lower', 'arm'): 1, ('lower', 'arm', 'towards'): 1, ('arm', 'towards', 'the'): 1, ('towards', 'the', 'viewer'): 1, ('the', 'viewer', 'gregor'): 1, ('viewer', 'gregor', 'then'): 1, ('gregor', 'then', 'turned'): 1, ('then', 'turned', 'to'): 1, ('turned', 'to', 'look'): 1, ('to', 'look', 'out'): 1, ('look', 'out', 'the'): 1, ('out', 'the', 'window'): 1, ('the', 'window', 'at'): 1, ('window', 'at', 'the'): 1, ('at', 'the', 'dull'): 1, ('the', 'dull', 'weather'): 1, ('dull', 'weather', 'drops'): 1, ('weather', 'drops', 'of'): 1, ('drops', 'of', 'rain'): 1, ('of', 'rain', 'could'): 1, ('rain', 'could', 'be'): 1, ('could', 'be', 'heard'): 1, ('be', 'heard', 'hitting'): 1, ('heard', 'hitting', 'the'): 1, ('hitting', 'the', 'pane'): 1, ('the', 'pane', 'which'): 1, ('pane', 'which', 'made'): 1, ('which', 'made', 'him'): 1, ('made', 'him', 'feel'): 1, ('him', 'feel', 'quite'): 1, ('feel', 'quite', 'sad'): 1, ('quite', 'sad', 'how'): 1, ('sad', 'how', 'about'): 1, ('how', 'about', 'if'): 1, ('about', 'if', 'i'): 1, ('if', 'i', 'sleep'): 1, ('i', 'sleep', 'a'): 1, ('sleep', 'a', 'little'): 1, ('a', 'little', 'bit'): 1, ('little', 'bit', 'longer'): 1, ('bit', 'longer', 'and'): 1, ('longer', 'and', 'forget'): 1, ('and', 'forget', 'all'): 1, ('forget', 'all', 'this'): 1, ('all', 'this', 'nonsense'): 1, ('this', 'nonsense', 'he'): 1, ('nonsense', 'he', 'thought'): 1, ('he', 'thought', 'but'): 1, ('thought', 'but', 'that'): 1, ('but', 'that', 'was'): 1, ('that', 'was', 'something'): 1, ('was', 'something', 'he'): 1, ('something', 'he', 'was'): 1, ('he', 'was', 'unable'): 1, ('was', 'unable', 'to'): 1, ('unable', 'to', 'do'): 1, ('to', 'do', 'because'): 1, ('do', 'because', 'he'): 1, ('because', 'he', 'was'): 1, ('he', 'was', 'used'): 1, ('was', 'used', 'to'): 1, ('used', 'to', 'sleeping'): 1, ('to', 'sleeping', 'on'): 1, ('sleeping', 'on', 'his'): 1, ('on', 'his', 'right'): 1, ('his', 'right', 'and'): 1, ('right', 'and', 'in'): 1, ('and', 'in', 'his'): 1, ('in', 'his', 'present'): 1, ('his', 'present', 'state'): 1, ('present', 'state', 'couldn'): 1, ('state', 'couldn', 't'): 1, ('couldn', 't', 'get'): 1, ('t', 'get', 'into'): 1, ('get', 'into', 'that'): 1, ('into', 'that', 'position'): 1, ('that', 'position', 'however'): 1, ('position', 'however', 'hard'): 1, ('however', 'hard', 'he'): 1, ('hard', 'he', 'threw'): 1, ('he', 'threw', 'himself'): 1, ('threw', 'himself', 'onto'): 1, ('himself', 'onto', 'his'): 1, ('onto', 'his', 'right'): 1, ('his', 'right', 'he'): 1, ('right', 'he', 'always'): 1, ('he', 'always', 'rolled'): 1, ('always', 'rolled', 'back'): 1, ('rolled', 'back', 'to'): 1, ('back', 'to', 'where'): 1, ('to', 'where', 'he'): 1, ('where', 'he', 'was'): 1, ('he', 'was', 'he'): 1, ('was', 'he', 'must'): 1, ('he', 'must', 'have'): 1, ('must', 'have', 'tried'): 1, ('have', 'tried', 'it'): 1, ('tried', 'it', 'a'): 1, ('it', 'a', 'hundred'): 1, ('a', 'hundred', 'times'): 1, ('hundred', 'times', 'shut'): 1, ('times', 'shut', 'his'): 1, ('shut', 'his', 'eyes'): 1, ('his', 'eyes', 'so'): 1, ('eyes', 'so', 'that'): 1, ('so', 'that', 'he'): 1, ('that', 'he', 'wouldn'): 1, ('he', 'wouldn', 't'): 1, ('wouldn', 't', 'have'): 1, ('t', 'have', 'to'): 1, ('have', 'to', 'look'): 1, ('to', 'look', 'at'): 1, ('look', 'at', 'the'): 1, ('at', 'the', 'floundering'): 1, ('the', 'floundering', 'legs'): 1, ('floundering', 'legs', 'and'): 1, ('legs', 'and', 'only'): 1, ('and', 'only', 'stopped'): 1, ('only', 'stopped', 'when'): 1, ('stopped', 'when', 'he'): 1, ('when', 'he', 'began'): 1, ('he', 'began', 'to'): 1, ('began', 'to', 'feel'): 1, ('to', 'feel', 'a'): 1, ('feel', 'a', 'mild'): 1, ('a', 'mild', 'dull'): 1, ('mild', 'dull', 'pain'): 1, ('dull', 'pain', 'there'): 1, ('pain', 'there', 'that'): 1, ('there', 'that', 'he'): 1, ('he', 'had', 'never'): 1, ('had', 'never', 'felt'): 1, ('never', 'felt', 'before'): 1})\n",
      "\n",
      "Tamaño del vocabulario (V): 197\n",
      "Vocabulario: {'then', 'in', 'magazine', 'although', 'found', 'it', 'nice', 'four', 'raising', 'size', 'textile', 't', 'about', 'sat', 'small', 'bed', 'proper', 'illustrated', 'heavy', 'dull', 'hundred', 'look', 'arches', 'shut', 'was', 'pitifully', 'by', 'troubled', 'sections', 's', 'happened', 'woke', 'i', 'lifted', 'sleep', 'window', 'one', 'hat', 'state', 'off', 'lady', 'which', 'rest', 'table', 'quite', 'always', 'had', 'unable', 'waved', 'looked', 'room', 'frame', 'have', 'compared', 'and', 'spread', 'a', 'like', 'housed', 'with', 'times', 'too', 'cut', 'however', 'hardly', 'its', 'began', 'able', 'seemed', 'if', 'horrible', 'bedding', 'upright', 'but', 'only', 'out', 'him', 'must', 'head', 'boa', 'his', 'slide', 'heard', 'forget', 'cover', 'fur', 'sad', 'feel', 'from', 'armour', 'travelling', 'transformed', 'lower', 'wasn', 'lay', 'what', 'thin', 'little', 'back', 'stopped', 'ready', 'something', 'samsa', 'weather', 'pane', 'muff', 'see', 'human', 'walls', 'an', 'into', 'before', 'when', 'collection', 'morning', 'do', 'because', 'helplessly', 'as', 'familiar', 'longer', 'onto', 'this', 'present', 'threw', 'above', 'hung', 'right', 'gregor', 'covered', 'couldn', 'felt', 'any', 'bit', 'towards', 'whole', 'rain', 'rolled', 'domed', 'tried', 'brown', 'stiff', 'sleeping', 'so', 'gilded', 'could', 'drops', 'recently', 'there', 'divided', 'floundering', 'turned', 'be', 'to', 'hitting', 'position', 'viewer', 'legs', 'where', 'thought', 'never', 'many', 'showed', 'at', 'her', 'get', 'used', 'made', 'himself', 'peacefully', 'of', 'me', 'vermin', 'belly', 'pain', 'how', 'who', 'on', 'fitted', 'dream', 'wouldn', 'picture', 'that', 'arm', 'samples', 'he', 'slightly', 'all', 'between', 'eyes', 'nonsense', 'salesman', 'dreams', 'mild', 'hard', 'the', 'moment'}\n"
     ]
    }
   ],
   "source": [
    "# Paso 2: Conteo de unigramas y bigramas\n",
    "def count_ngrams(tokens):\n",
    "    ngram_counts = defaultdict(int)\n",
    "    for t in tokens:\n",
    "        ngram_counts[t] += 1\n",
    "    return ngram_counts\n",
    "\n",
    "unigram_counts = count_ngrams(unigrams)\n",
    "bigram_counts = count_ngrams(bigrams)\n",
    "trigram_counts = count_ngrams(trigrams) \n",
    "print(\"\\nConteo de unigramas:\")\n",
    "print(unigram_counts)\n",
    "print(\"\\nConteo de bigramas:\")\n",
    "print(bigram_counts)\n",
    "print(\"\\nConteo de trigramas:\")\n",
    "print(trigram_counts)\n",
    "\n",
    "V = len(unigram_counts)\n",
    "print(\"\\nTamaño del vocabulario (V):\", V)\n",
    "print(\"Vocabulario:\", set(unigram_counts.keys()))"
   ]
  },
  {
   "cell_type": "code",
   "execution_count": 6,
   "metadata": {},
   "outputs": [],
   "source": [
    "# Paso 3: Calculo de la entropía de Shannon\n",
    "def shannon_entropy(counts):\n",
    "    total_count = sum(counts.values())\n",
    "    entropy = 0.0\n",
    "    for count in counts.values():\n",
    "        if count > 0:\n",
    "            probability = count / total_count\n",
    "            entropy -= probability * math.log(probability, 2)\n",
    "    return entropy"
   ]
  },
  {
   "cell_type": "code",
   "execution_count": 7,
   "metadata": {},
   "outputs": [],
   "source": [
    "# Paso 4: Calculo de perplejidad\n",
    "def perplexity(counts):\n",
    "    entropy = shannon_entropy(counts)\n",
    "    return 2 ** entropy"
   ]
  },
  {
   "cell_type": "code",
   "execution_count": 8,
   "metadata": {},
   "outputs": [
    {
     "name": "stdout",
     "output_type": "stream",
     "text": [
      "\n",
      "Entropía de Shannon para unigramas: 7.0770005113797945\n",
      "Entropía de Shannon para bigramas: 8.21917605693286\n",
      "Entropía de Shannon para trigramas: 8.297451634253077\n",
      "\n",
      "Perplejidad para unigramas: 135.0173044431346\n",
      "Perplejidad para bigramas: 298.0015567213239\n",
      "Perplejidad para trigramas: 314.6167420388865\n"
     ]
    }
   ],
   "source": [
    "# Ejemplo de uso\n",
    "entropy_unigrams = shannon_entropy(unigram_counts)\n",
    "entropy_bigrams = shannon_entropy(bigram_counts)\n",
    "entropy_trigrams = shannon_entropy(trigram_counts)\n",
    "print(\"\\nEntropía de Shannon para unigramas:\", entropy_unigrams)\n",
    "print(\"Entropía de Shannon para bigramas:\", entropy_bigrams)\n",
    "print(\"Entropía de Shannon para trigramas:\", entropy_trigrams)\n",
    "\n",
    "perplexity_unigrams = perplexity(unigram_counts)\n",
    "perplexity_bigrams = perplexity(bigram_counts)\n",
    "perplexity_trigrams = perplexity(trigram_counts)\n",
    "print(\"\\nPerplejidad para unigramas:\", perplexity_unigrams)\n",
    "print(\"Perplejidad para bigramas:\", perplexity_bigrams)\n",
    "print(\"Perplejidad para trigramas:\", perplexity_trigrams)\n"
   ]
  },
  {
   "cell_type": "code",
   "execution_count": 9,
   "metadata": {},
   "outputs": [
    {
     "name": "stdout",
     "output_type": "stream",
     "text": [
      "\n",
      "Entropía de unigramas para corpus simple: 2.4193819456463714\n",
      "Perplejidad de unigramas para corpus simple: 5.349418023423782\n"
     ]
    }
   ],
   "source": [
    "# Prueba con corpus simple para entropia y perplejidad \n",
    "corpus_simple = \"El perro ladra. El gato maulla. El perro corre.\"\n",
    "# Paso 1.2: Tokenización y creación de ngramas\n",
    "unigrams_simple = ngram_tokenize(corpus_simple, n=1)\n",
    "# Calculo de unigramas\n",
    "unigram_counts_simple = count_ngrams(unigrams_simple)\n",
    "entropy_unigrams_simple = shannon_entropy(unigram_counts_simple)\n",
    "perplexity_unigrams_simple = perplexity(unigram_counts_simple)\n",
    "print(\"\\nEntropía de unigramas para corpus simple:\", entropy_unigrams_simple)\n",
    "print(\"Perplejidad de unigramas para corpus simple:\", perplexity_unigrams_simple)"
   ]
  },
  {
   "cell_type": "markdown",
   "metadata": {},
   "source": [
    "Smoothing"
   ]
  },
  {
   "cell_type": "code",
   "execution_count": 10,
   "metadata": {
    "id": "l8LD4C6O0cG4"
   },
   "outputs": [],
   "source": [
    "# Funciones de probabilidad (dos técnicas de smoothing)\n",
    "def laplace_probability(w1, w2, k=1):\n",
    "    return (bigram_counts.get((w1, w2), 0) + k) / (unigram_counts.get(w1, 0) + k * V)\n",
    "\n",
    "def add_k_probability(w1, w2, k=0.5):\n",
    "    return (bigram_counts.get((w1, w2), 0) + k) / (unigram_counts.get(w1, 0) + k * V)\n"
   ]
  },
  {
   "cell_type": "code",
   "execution_count": 14,
   "metadata": {
    "colab": {
     "base_uri": "https://localhost:8080/"
    },
    "id": "wLSRtIIg0gLs",
    "outputId": "2e6d77c9-1158-4dc6-b283-f4f80c744f8a"
   },
   "outputs": [
    {
     "name": "stdout",
     "output_type": "stream",
     "text": [
      "\n",
      "Entropía Laplace: 7.6221\n",
      "Perplejidad Laplace: 197.0000\n",
      "\n",
      "Entropía Add-K: 7.6221\n",
      "Perplejidad Add-K: 197.0000\n"
     ]
    }
   ],
   "source": [
    "#  prueba\n",
    "frase = \"la araña trabaja\"\n",
    "tokens_test = re.findall(r\"\\b\\w+\\b\", frase.lower())\n",
    "bigrams_test = list(zip(tokens_test, tokens_test[1:]))\n",
    "\n",
    "log_prob_laplace = sum(math.log2(laplace_probability(w1, w2)) for w1, w2 in bigrams_test)\n",
    "entropy_laplace = -log_prob_laplace / len(bigrams_test)\n",
    "perplexity_laplace = 2 ** entropy_laplace\n",
    "\n",
    "log_prob_addk = sum(math.log2(add_k_probability(w1, w2)) for w1, w2 in bigrams_test)\n",
    "entropy_addk = -log_prob_addk / len(bigrams_test)\n",
    "perplexity_addk = 2 ** entropy_addk\n",
    "\n",
    "print(f\"\\nEntropía Laplace: {entropy_laplace:.4f}\")\n",
    "print(f\"Perplejidad Laplace: {perplexity_laplace:.4f}\")\n",
    "print(f\"\\nEntropía Add-K: {entropy_addk:.4f}\")\n",
    "print(f\"Perplejidad Add-K: {perplexity_addk:.4f}\")"
   ]
  },
  {
   "cell_type": "code",
   "execution_count": 15,
   "metadata": {
    "colab": {
     "base_uri": "https://localhost:8080/",
     "height": 143
    },
    "id": "k6CIuMEO0lsH",
    "outputId": "e2505575-01b5-4b56-d01b-2495ff5f6094"
   },
   "outputs": [
    {
     "data": {
      "text/html": [
       "<div>\n",
       "<style scoped>\n",
       "    .dataframe tbody tr th:only-of-type {\n",
       "        vertical-align: middle;\n",
       "    }\n",
       "\n",
       "    .dataframe tbody tr th {\n",
       "        vertical-align: top;\n",
       "    }\n",
       "\n",
       "    .dataframe thead th {\n",
       "        text-align: right;\n",
       "    }\n",
       "</style>\n",
       "<table border=\"1\" class=\"dataframe\">\n",
       "  <thead>\n",
       "    <tr style=\"text-align: right;\">\n",
       "      <th></th>\n",
       "      <th>P1</th>\n",
       "      <th>P2</th>\n",
       "      <th>Conteo Bigram</th>\n",
       "      <th>Conteo Unigram (P1)</th>\n",
       "      <th>Probabilidad Laplace</th>\n",
       "      <th>Probabilidad Add-K (0.5)</th>\n",
       "    </tr>\n",
       "  </thead>\n",
       "  <tbody>\n",
       "    <tr>\n",
       "      <th>0</th>\n",
       "      <td>la</td>\n",
       "      <td>araña</td>\n",
       "      <td>0</td>\n",
       "      <td>0</td>\n",
       "      <td>0.0051</td>\n",
       "      <td>0.0051</td>\n",
       "    </tr>\n",
       "    <tr>\n",
       "      <th>1</th>\n",
       "      <td>araña</td>\n",
       "      <td>trabaja</td>\n",
       "      <td>0</td>\n",
       "      <td>0</td>\n",
       "      <td>0.0051</td>\n",
       "      <td>0.0051</td>\n",
       "    </tr>\n",
       "  </tbody>\n",
       "</table>\n",
       "</div>"
      ],
      "text/plain": [
       "      P1       P2  Conteo Bigram  Conteo Unigram (P1)  Probabilidad Laplace  \\\n",
       "0     la    araña              0                    0                0.0051   \n",
       "1  araña  trabaja              0                    0                0.0051   \n",
       "\n",
       "   Probabilidad Add-K (0.5)  \n",
       "0                    0.0051  \n",
       "1                    0.0051  "
      ]
     },
     "execution_count": 15,
     "metadata": {},
     "output_type": "execute_result"
    }
   ],
   "source": [
    "#conteos y probabilidades\n",
    "\n",
    "df = pd.DataFrame(bigrams_test, columns=[\"P1\", \"P2\"])\n",
    "df[\"Conteo Bigram\"] = df.apply(lambda r: bigram_counts.get((r.P1, r.P2), 0), axis=1)\n",
    "df[\"Conteo Unigram (P1)\"] = df[\"P1\"].apply(lambda w: unigram_counts.get(w, 0))\n",
    "df[\"Probabilidad Laplace\"] = df.apply(lambda r: round(laplace_probability(r.P1, r.P2), 4), axis=1)\n",
    "df[\"Probabilidad Add-K (0.5)\"] = df.apply(lambda r: round(add_k_probability(r.P1, r.P2), 4), axis=1)\n",
    "\n",
    "df"
   ]
  },
  {
   "cell_type": "code",
   "execution_count": null,
   "metadata": {},
   "outputs": [],
   "source": []
  }
 ],
 "metadata": {
  "colab": {
   "provenance": []
  },
  "kernelspec": {
   "display_name": "Python 3 (ipykernel)",
   "language": "python",
   "name": "python3"
  },
  "language_info": {
   "codemirror_mode": {
    "name": "ipython",
    "version": 3
   },
   "file_extension": ".py",
   "mimetype": "text/x-python",
   "name": "python",
   "nbconvert_exporter": "python",
   "pygments_lexer": "ipython3",
   "version": "3.13.2"
  }
 },
 "nbformat": 4,
 "nbformat_minor": 4
}
