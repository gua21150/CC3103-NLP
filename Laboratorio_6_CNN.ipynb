{
  "cells": [
    {
      "cell_type": "markdown",
      "metadata": {
        "colab_type": "text",
        "id": "view-in-github"
      },
      "source": [
        "<a href=\"https://colab.research.google.com/github/gua21150/CC3103-NLP/blob/main/Laboratorio_6_CNN.ipynb\" target=\"_parent\"><img src=\"https://colab.research.google.com/assets/colab-badge.svg\" alt=\"Open In Colab\"/></a>"
      ]
    },
    {
      "cell_type": "markdown",
      "metadata": {
        "id": "zXhjY9dGwJls"
      },
      "source": [
        "NOMBRES: Mariel Alejandra\n",
        "\n",
        "APELLIDOS: Guamuche Recinos\n",
        "\n",
        "CARNE: 21150\n",
        "\n",
        "FECHA: 15/09/2025"
      ]
    },
    {
      "cell_type": "markdown",
      "metadata": {
        "id": "n7nnvCPLh5Ms"
      },
      "source": [
        "**Ejercicio 1**\n",
        "Cree un dataset con noticias (Pueden ser falsas) para poder clasificarlas por categoria (Recomiendo que sea binaria para su comodidad)"
      ]
    },
    {
      "cell_type": "markdown",
      "metadata": {},
      "source": [
        "Para el ejercicio se utilizará el dataset de Kaggle \"News Category Dataset\", donde se tomarán las noticias de Welness (17945) y Entertainment (17362), pues son las categorías más balanceadas y con mayor cantidad."
      ]
    },
    {
      "cell_type": "code",
      "execution_count": 2,
      "metadata": {},
      "outputs": [
        {
          "name": "stderr",
          "output_type": "stream",
          "text": [
            "c:\\Users\\Mariel Guamuche\\AppData\\Local\\Programs\\Python\\Python312\\Lib\\site-packages\\tqdm\\auto.py:21: TqdmWarning: IProgress not found. Please update jupyter and ipywidgets. See https://ipywidgets.readthedocs.io/en/stable/user_install.html\n",
            "  from .autonotebook import tqdm as notebook_tqdm\n"
          ]
        },
        {
          "name": "stdout",
          "output_type": "stream",
          "text": [
            "Warning: Looks like you're using an outdated `kagglehub` version (installed: 0.3.12), please consider upgrading to the latest version (0.3.13).\n",
            "Path to dataset files: C:\\Users\\Mariel Guamuche\\.cache\\kagglehub\\datasets\\rmisra\\news-category-dataset\\versions\\3\n"
          ]
        }
      ],
      "source": [
        "import kagglehub\n",
        "\n",
        "# Download latest version\n",
        "path = kagglehub.dataset_download(\"rmisra/news-category-dataset\")\n",
        "\n",
        "print(\"Path to dataset files:\", path)"
      ]
    },
    {
      "cell_type": "code",
      "execution_count": 3,
      "metadata": {
        "id": "r3aTZXJeiFAI"
      },
      "outputs": [
        {
          "data": {
            "text/html": [
              "<div>\n",
              "<style scoped>\n",
              "    .dataframe tbody tr th:only-of-type {\n",
              "        vertical-align: middle;\n",
              "    }\n",
              "\n",
              "    .dataframe tbody tr th {\n",
              "        vertical-align: top;\n",
              "    }\n",
              "\n",
              "    .dataframe thead th {\n",
              "        text-align: right;\n",
              "    }\n",
              "</style>\n",
              "<table border=\"1\" class=\"dataframe\">\n",
              "  <thead>\n",
              "    <tr style=\"text-align: right;\">\n",
              "      <th></th>\n",
              "      <th>link</th>\n",
              "      <th>headline</th>\n",
              "      <th>category</th>\n",
              "      <th>short_description</th>\n",
              "      <th>authors</th>\n",
              "      <th>date</th>\n",
              "    </tr>\n",
              "  </thead>\n",
              "  <tbody>\n",
              "    <tr>\n",
              "      <th>0</th>\n",
              "      <td>https://www.huffpost.com/entry/covid-boosters-...</td>\n",
              "      <td>Over 4 Million Americans Roll Up Sleeves For O...</td>\n",
              "      <td>U.S. NEWS</td>\n",
              "      <td>Health experts said it is too early to predict...</td>\n",
              "      <td>Carla K. Johnson, AP</td>\n",
              "      <td>2022-09-23</td>\n",
              "    </tr>\n",
              "    <tr>\n",
              "      <th>1</th>\n",
              "      <td>https://www.huffpost.com/entry/american-airlin...</td>\n",
              "      <td>American Airlines Flyer Charged, Banned For Li...</td>\n",
              "      <td>U.S. NEWS</td>\n",
              "      <td>He was subdued by passengers and crew when he ...</td>\n",
              "      <td>Mary Papenfuss</td>\n",
              "      <td>2022-09-23</td>\n",
              "    </tr>\n",
              "    <tr>\n",
              "      <th>2</th>\n",
              "      <td>https://www.huffpost.com/entry/funniest-tweets...</td>\n",
              "      <td>23 Of The Funniest Tweets About Cats And Dogs ...</td>\n",
              "      <td>COMEDY</td>\n",
              "      <td>\"Until you have a dog you don't understand wha...</td>\n",
              "      <td>Elyse Wanshel</td>\n",
              "      <td>2022-09-23</td>\n",
              "    </tr>\n",
              "    <tr>\n",
              "      <th>3</th>\n",
              "      <td>https://www.huffpost.com/entry/funniest-parent...</td>\n",
              "      <td>The Funniest Tweets From Parents This Week (Se...</td>\n",
              "      <td>PARENTING</td>\n",
              "      <td>\"Accidentally put grown-up toothpaste on my to...</td>\n",
              "      <td>Caroline Bologna</td>\n",
              "      <td>2022-09-23</td>\n",
              "    </tr>\n",
              "    <tr>\n",
              "      <th>4</th>\n",
              "      <td>https://www.huffpost.com/entry/amy-cooper-lose...</td>\n",
              "      <td>Woman Who Called Cops On Black Bird-Watcher Lo...</td>\n",
              "      <td>U.S. NEWS</td>\n",
              "      <td>Amy Cooper accused investment firm Franklin Te...</td>\n",
              "      <td>Nina Golgowski</td>\n",
              "      <td>2022-09-22</td>\n",
              "    </tr>\n",
              "    <tr>\n",
              "      <th>...</th>\n",
              "      <td>...</td>\n",
              "      <td>...</td>\n",
              "      <td>...</td>\n",
              "      <td>...</td>\n",
              "      <td>...</td>\n",
              "      <td>...</td>\n",
              "    </tr>\n",
              "    <tr>\n",
              "      <th>209522</th>\n",
              "      <td>https://www.huffingtonpost.com/entry/rim-ceo-t...</td>\n",
              "      <td>RIM CEO Thorsten Heins' 'Significant' Plans Fo...</td>\n",
              "      <td>TECH</td>\n",
              "      <td>Verizon Wireless and AT&amp;T are already promotin...</td>\n",
              "      <td>Reuters, Reuters</td>\n",
              "      <td>2012-01-28</td>\n",
              "    </tr>\n",
              "    <tr>\n",
              "      <th>209523</th>\n",
              "      <td>https://www.huffingtonpost.com/entry/maria-sha...</td>\n",
              "      <td>Maria Sharapova Stunned By Victoria Azarenka I...</td>\n",
              "      <td>SPORTS</td>\n",
              "      <td>Afterward, Azarenka, more effusive with the pr...</td>\n",
              "      <td></td>\n",
              "      <td>2012-01-28</td>\n",
              "    </tr>\n",
              "    <tr>\n",
              "      <th>209524</th>\n",
              "      <td>https://www.huffingtonpost.com/entry/super-bow...</td>\n",
              "      <td>Giants Over Patriots, Jets Over Colts Among  M...</td>\n",
              "      <td>SPORTS</td>\n",
              "      <td>Leading up to Super Bowl XLVI, the most talked...</td>\n",
              "      <td></td>\n",
              "      <td>2012-01-28</td>\n",
              "    </tr>\n",
              "    <tr>\n",
              "      <th>209525</th>\n",
              "      <td>https://www.huffingtonpost.com/entry/aldon-smi...</td>\n",
              "      <td>Aldon Smith Arrested: 49ers Linebacker Busted ...</td>\n",
              "      <td>SPORTS</td>\n",
              "      <td>CORRECTION: An earlier version of this story i...</td>\n",
              "      <td></td>\n",
              "      <td>2012-01-28</td>\n",
              "    </tr>\n",
              "    <tr>\n",
              "      <th>209526</th>\n",
              "      <td>https://www.huffingtonpost.com/entry/dwight-ho...</td>\n",
              "      <td>Dwight Howard Rips Teammates After Magic Loss ...</td>\n",
              "      <td>SPORTS</td>\n",
              "      <td>The five-time all-star center tore into his te...</td>\n",
              "      <td></td>\n",
              "      <td>2012-01-28</td>\n",
              "    </tr>\n",
              "  </tbody>\n",
              "</table>\n",
              "<p>209527 rows × 6 columns</p>\n",
              "</div>"
            ],
            "text/plain": [
              "                                                     link  \\\n",
              "0       https://www.huffpost.com/entry/covid-boosters-...   \n",
              "1       https://www.huffpost.com/entry/american-airlin...   \n",
              "2       https://www.huffpost.com/entry/funniest-tweets...   \n",
              "3       https://www.huffpost.com/entry/funniest-parent...   \n",
              "4       https://www.huffpost.com/entry/amy-cooper-lose...   \n",
              "...                                                   ...   \n",
              "209522  https://www.huffingtonpost.com/entry/rim-ceo-t...   \n",
              "209523  https://www.huffingtonpost.com/entry/maria-sha...   \n",
              "209524  https://www.huffingtonpost.com/entry/super-bow...   \n",
              "209525  https://www.huffingtonpost.com/entry/aldon-smi...   \n",
              "209526  https://www.huffingtonpost.com/entry/dwight-ho...   \n",
              "\n",
              "                                                 headline   category  \\\n",
              "0       Over 4 Million Americans Roll Up Sleeves For O...  U.S. NEWS   \n",
              "1       American Airlines Flyer Charged, Banned For Li...  U.S. NEWS   \n",
              "2       23 Of The Funniest Tweets About Cats And Dogs ...     COMEDY   \n",
              "3       The Funniest Tweets From Parents This Week (Se...  PARENTING   \n",
              "4       Woman Who Called Cops On Black Bird-Watcher Lo...  U.S. NEWS   \n",
              "...                                                   ...        ...   \n",
              "209522  RIM CEO Thorsten Heins' 'Significant' Plans Fo...       TECH   \n",
              "209523  Maria Sharapova Stunned By Victoria Azarenka I...     SPORTS   \n",
              "209524  Giants Over Patriots, Jets Over Colts Among  M...     SPORTS   \n",
              "209525  Aldon Smith Arrested: 49ers Linebacker Busted ...     SPORTS   \n",
              "209526  Dwight Howard Rips Teammates After Magic Loss ...     SPORTS   \n",
              "\n",
              "                                        short_description  \\\n",
              "0       Health experts said it is too early to predict...   \n",
              "1       He was subdued by passengers and crew when he ...   \n",
              "2       \"Until you have a dog you don't understand wha...   \n",
              "3       \"Accidentally put grown-up toothpaste on my to...   \n",
              "4       Amy Cooper accused investment firm Franklin Te...   \n",
              "...                                                   ...   \n",
              "209522  Verizon Wireless and AT&T are already promotin...   \n",
              "209523  Afterward, Azarenka, more effusive with the pr...   \n",
              "209524  Leading up to Super Bowl XLVI, the most talked...   \n",
              "209525  CORRECTION: An earlier version of this story i...   \n",
              "209526  The five-time all-star center tore into his te...   \n",
              "\n",
              "                     authors       date  \n",
              "0       Carla K. Johnson, AP 2022-09-23  \n",
              "1             Mary Papenfuss 2022-09-23  \n",
              "2              Elyse Wanshel 2022-09-23  \n",
              "3           Caroline Bologna 2022-09-23  \n",
              "4             Nina Golgowski 2022-09-22  \n",
              "...                      ...        ...  \n",
              "209522      Reuters, Reuters 2012-01-28  \n",
              "209523                       2012-01-28  \n",
              "209524                       2012-01-28  \n",
              "209525                       2012-01-28  \n",
              "209526                       2012-01-28  \n",
              "\n",
              "[209527 rows x 6 columns]"
            ]
          },
          "metadata": {},
          "output_type": "display_data"
        }
      ],
      "source": [
        "import pandas as pd\n",
        "df = pd.read_json(path+\"/News_Category_Dataset_v3.json\", lines=True).reset_index(drop=True)\n",
        "\n",
        "# Display the dataset\n",
        "display(df)"
      ]
    },
    {
      "cell_type": "code",
      "execution_count": 4,
      "metadata": {
        "id": "Hf3GX1_liFXd"
      },
      "outputs": [
        {
          "data": {
            "text/html": [
              "<div>\n",
              "<style scoped>\n",
              "    .dataframe tbody tr th:only-of-type {\n",
              "        vertical-align: middle;\n",
              "    }\n",
              "\n",
              "    .dataframe tbody tr th {\n",
              "        vertical-align: top;\n",
              "    }\n",
              "\n",
              "    .dataframe thead th {\n",
              "        text-align: right;\n",
              "    }\n",
              "</style>\n",
              "<table border=\"1\" class=\"dataframe\">\n",
              "  <thead>\n",
              "    <tr style=\"text-align: right;\">\n",
              "      <th></th>\n",
              "      <th>headline</th>\n",
              "      <th>short_description</th>\n",
              "      <th>category</th>\n",
              "      <th>label</th>\n",
              "    </tr>\n",
              "  </thead>\n",
              "  <tbody>\n",
              "    <tr>\n",
              "      <th>0</th>\n",
              "      <td>Golden Globes Returning To NBC In January Afte...</td>\n",
              "      <td>For the past 18 months, Hollywood has effectiv...</td>\n",
              "      <td>ENTERTAINMENT</td>\n",
              "      <td>1</td>\n",
              "    </tr>\n",
              "    <tr>\n",
              "      <th>1</th>\n",
              "      <td>James Cameron Says He 'Clashed' With Studio Be...</td>\n",
              "      <td>The \"Avatar\" director said aspects of his 2009...</td>\n",
              "      <td>ENTERTAINMENT</td>\n",
              "      <td>1</td>\n",
              "    </tr>\n",
              "    <tr>\n",
              "      <th>2</th>\n",
              "      <td>Amazon Greenlights 'Blade Runner 2099' Limited...</td>\n",
              "      <td>The director of the original 1982 film joins a...</td>\n",
              "      <td>ENTERTAINMENT</td>\n",
              "      <td>1</td>\n",
              "    </tr>\n",
              "    <tr>\n",
              "      <th>3</th>\n",
              "      <td>'The Phantom Of The Opera' To Close On Broadwa...</td>\n",
              "      <td>“The Phantom of the Opera” — Broadway’s longes...</td>\n",
              "      <td>ENTERTAINMENT</td>\n",
              "      <td>1</td>\n",
              "    </tr>\n",
              "    <tr>\n",
              "      <th>4</th>\n",
              "      <td>Viola Davis Feared A Heart Attack During 'The ...</td>\n",
              "      <td>The Oscar winner said she worked out for five ...</td>\n",
              "      <td>ENTERTAINMENT</td>\n",
              "      <td>1</td>\n",
              "    </tr>\n",
              "    <tr>\n",
              "      <th>...</th>\n",
              "      <td>...</td>\n",
              "      <td>...</td>\n",
              "      <td>...</td>\n",
              "      <td>...</td>\n",
              "    </tr>\n",
              "    <tr>\n",
              "      <th>35302</th>\n",
              "      <td>The Sleep Library: 11 Soothing Books For Bedtime</td>\n",
              "      <td>Do you toss and turn until you finally sit up ...</td>\n",
              "      <td>WELLNESS</td>\n",
              "      <td>0</td>\n",
              "    </tr>\n",
              "    <tr>\n",
              "      <th>35303</th>\n",
              "      <td>The Benefits of Caring for a Pet</td>\n",
              "      <td>For the young as well as the old, especially i...</td>\n",
              "      <td>WELLNESS</td>\n",
              "      <td>0</td>\n",
              "    </tr>\n",
              "    <tr>\n",
              "      <th>35304</th>\n",
              "      <td>This Is Only the Beginning: Surprising Advice ...</td>\n",
              "      <td>My great-aunt Ida loves to say, \"This is only ...</td>\n",
              "      <td>WELLNESS</td>\n",
              "      <td>0</td>\n",
              "    </tr>\n",
              "    <tr>\n",
              "      <th>35305</th>\n",
              "      <td>Sundance, Ice-T, and Shades of the American Ra...</td>\n",
              "      <td>Representation of the collective diaspora has ...</td>\n",
              "      <td>ENTERTAINMENT</td>\n",
              "      <td>1</td>\n",
              "    </tr>\n",
              "    <tr>\n",
              "      <th>35306</th>\n",
              "      <td>'Girl With the Dragon Tattoo' India Release Ca...</td>\n",
              "      <td>\"Sony Pictures will not be releasing The Girl ...</td>\n",
              "      <td>ENTERTAINMENT</td>\n",
              "      <td>1</td>\n",
              "    </tr>\n",
              "  </tbody>\n",
              "</table>\n",
              "<p>35307 rows × 4 columns</p>\n",
              "</div>"
            ],
            "text/plain": [
              "                                                headline  \\\n",
              "0      Golden Globes Returning To NBC In January Afte...   \n",
              "1      James Cameron Says He 'Clashed' With Studio Be...   \n",
              "2      Amazon Greenlights 'Blade Runner 2099' Limited...   \n",
              "3      'The Phantom Of The Opera' To Close On Broadwa...   \n",
              "4      Viola Davis Feared A Heart Attack During 'The ...   \n",
              "...                                                  ...   \n",
              "35302   The Sleep Library: 11 Soothing Books For Bedtime   \n",
              "35303                   The Benefits of Caring for a Pet   \n",
              "35304  This Is Only the Beginning: Surprising Advice ...   \n",
              "35305  Sundance, Ice-T, and Shades of the American Ra...   \n",
              "35306  'Girl With the Dragon Tattoo' India Release Ca...   \n",
              "\n",
              "                                       short_description       category  label  \n",
              "0      For the past 18 months, Hollywood has effectiv...  ENTERTAINMENT      1  \n",
              "1      The \"Avatar\" director said aspects of his 2009...  ENTERTAINMENT      1  \n",
              "2      The director of the original 1982 film joins a...  ENTERTAINMENT      1  \n",
              "3      “The Phantom of the Opera” — Broadway’s longes...  ENTERTAINMENT      1  \n",
              "4      The Oscar winner said she worked out for five ...  ENTERTAINMENT      1  \n",
              "...                                                  ...            ...    ...  \n",
              "35302  Do you toss and turn until you finally sit up ...       WELLNESS      0  \n",
              "35303  For the young as well as the old, especially i...       WELLNESS      0  \n",
              "35304  My great-aunt Ida loves to say, \"This is only ...       WELLNESS      0  \n",
              "35305  Representation of the collective diaspora has ...  ENTERTAINMENT      1  \n",
              "35306  \"Sony Pictures will not be releasing The Girl ...  ENTERTAINMENT      1  \n",
              "\n",
              "[35307 rows x 4 columns]"
            ]
          },
          "metadata": {},
          "output_type": "display_data"
        }
      ],
      "source": [
        "# Filtra los datos de welness y entertainment\n",
        "df_filtered = df[df['category'].isin(['WELLNESS', 'ENTERTAINMENT'])].reset_index(drop=True)\n",
        "# Ordenar las columnas \n",
        "df_filtered = df_filtered[['headline', 'short_description', 'category']]\n",
        "\n",
        "# Colocar label 0 para wellness y 1 para entertainment\n",
        "df_filtered['label'] = df_filtered['category'].apply(lambda x: 0 if x == 'WELLNESS' else 1)\n",
        "# Mostrar el dataframe filtrado\n",
        "display(df_filtered)"
      ]
    },
    {
      "cell_type": "code",
      "execution_count": 5,
      "metadata": {},
      "outputs": [
        {
          "data": {
            "text/plain": [
              "<Axes: xlabel='label'>"
            ]
          },
          "execution_count": 5,
          "metadata": {},
          "output_type": "execute_result"
        },
        {
          "data": {
            "image/png": "[encoded data removed]",
            "text/plain": [
              "<Figure size 640x480 with 1 Axes>"
            ]
          },
          "metadata": {},
          "output_type": "display_data"
        }
      ],
      "source": [
        "df_filtered.value_counts('label').plot.bar()"
      ]
    },
    {
      "cell_type": "code",
      "execution_count": 6,
      "metadata": {},
      "outputs": [],
      "source": [
        "df_filtered.to_csv(\"news_wellness_entertainment.csv\", index=False)"
      ]
    },
    {
      "cell_type": "markdown",
      "metadata": {
        "id": "fzRf6sNDiF1v"
      },
      "source": [
        "**Ejercicio 2**\n",
        " En base al dataset creado anteriormente Realizar una CNN para poder clasificarla de manera automatica, debe de realizarla con 3 filtros y dejar cada una de ellas como una implementacion nuevo por lo que recomiendo trabajarlo por funciones"
      ]
    },
    {
      "cell_type": "code",
      "execution_count": null,
      "metadata": {
        "id": "WUUiX7oBffZg"
      },
      "outputs": [],
      "source": [
        "# !pip install tensorflow"
      ]
    },
    {
      "cell_type": "code",
      "execution_count": 9,
      "metadata": {},
      "outputs": [],
      "source": [
        "# librerías necesarias\n",
        "import os\n",
        "import numpy as np\n",
        "import pandas as pd\n",
        "import tensorflow as tf\n",
        "from sklearn.model_selection import train_test_split\n",
        "from sklearn.metrics import classification_report, f1_score, accuracy_score"
      ]
    },
    {
      "cell_type": "code",
      "execution_count": 15,
      "metadata": {},
      "outputs": [],
      "source": [
        "X = df_filtered[\"short_description\"].values\n",
        "y = df_filtered[\"label\"].values"
      ]
    },
    {
      "cell_type": "code",
      "execution_count": 16,
      "metadata": {},
      "outputs": [],
      "source": [
        "X_train, X_tmp, y_train, y_tmp = train_test_split(\n",
        "    X, y, test_size=0.20, random_state=42, stratify=y\n",
        ")\n",
        "X_val, X_test, y_val, y_test = train_test_split(\n",
        "    X_tmp, y_tmp, test_size=0.50, random_state=42, stratify=y_tmp\n",
        ")"
      ]
    },
    {
      "cell_type": "code",
      "execution_count": 17,
      "metadata": {},
      "outputs": [],
      "source": [
        "MAX_TOKENS = 20000\n",
        "SEQ_LEN = 200\n",
        "\n",
        "vectorizer = tf.keras.layers.TextVectorization(\n",
        "    max_tokens=MAX_TOKENS,\n",
        "    output_mode=\"int\",\n",
        "    output_sequence_length=SEQ_LEN,\n",
        "    standardize=\"lower_and_strip_punctuation\",\n",
        "    split=\"whitespace\",\n",
        ")\n",
        "vectorizer.adapt(tf.data.Dataset.from_tensor_slices(X_train).batch(256))"
      ]
    },
    {
      "cell_type": "code",
      "execution_count": 18,
      "metadata": {},
      "outputs": [],
      "source": [
        "BATCH_SIZE = 64\n",
        "AUTOTUNE = tf.data.AUTOTUNE\n",
        "\n",
        "def make_ds(texts, labels, training=False):\n",
        "    ds = tf.data.Dataset.from_tensor_slices((texts, labels))\n",
        "    if training:\n",
        "        ds = ds.shuffle(8192, reshuffle_each_iteration=True)\n",
        "    ds = ds.batch(BATCH_SIZE).prefetch(AUTOTUNE)\n",
        "    ds = ds.map(lambda x, y: (vectorizer(x), y), num_parallel_calls=AUTOTUNE)\n",
        "    return ds\n",
        "\n",
        "train_ds = make_ds(X_train, y_train, training=True)\n",
        "val_ds   = make_ds(X_val, y_val, training=False)\n",
        "test_ds  = make_ds(X_test, y_test, training=False)"
      ]
    },
    {
      "cell_type": "code",
      "execution_count": 19,
      "metadata": {},
      "outputs": [],
      "source": [
        "EMB_DIM = 128\n",
        "FILTERS = 128\n",
        "DENSE_UNITS = 128\n",
        "DROPOUT = 0.4\n",
        "LR = 1e-3\n",
        "\n",
        "def build_cnn_kernel(k: int) -> tf.keras.Model:\n",
        "    \"\"\"CNN simple con una sola Conv1D y kernel k.\"\"\"\n",
        "    inputs = tf.keras.Input(shape=(SEQ_LEN,), dtype=tf.int64)\n",
        "    x = tf.keras.layers.Embedding(input_dim=MAX_TOKENS, output_dim=EMB_DIM)(inputs)\n",
        "    x = tf.keras.layers.Conv1D(filters=FILTERS, kernel_size=k, activation=\"relu\")(x)\n",
        "    x = tf.keras.layers.GlobalMaxPooling1D()(x)\n",
        "    x = tf.keras.layers.Dense(DENSE_UNITS, activation=\"relu\")(x)\n",
        "    x = tf.keras.layers.Dropout(DROPOUT)(x)\n",
        "    outputs = tf.keras.layers.Dense(1, activation=\"sigmoid\")(x)\n",
        "    model = tf.keras.Model(inputs, outputs, name=f\"cnn_k{k}\")\n",
        "    model.compile(\n",
        "        optimizer=tf.keras.optimizers.Adam(LR),\n",
        "        loss=\"binary_crossentropy\",\n",
        "        metrics=[\"accuracy\", tf.keras.metrics.AUC(name=\"auc\")],\n",
        "    )\n",
        "    return model\n",
        "\n",
        "def build_cnn_k3(): return build_cnn_kernel(3)\n",
        "def build_cnn_k4(): return build_cnn_kernel(4)\n",
        "def build_cnn_k5(): return build_cnn_kernel(5)"
      ]
    },
    {
      "cell_type": "code",
      "execution_count": 20,
      "metadata": {},
      "outputs": [
        {
          "name": "stdout",
          "output_type": "stream",
          "text": [
            "Epoch 1/5\n",
            "\u001b[1m442/442\u001b[0m \u001b[32m━━━━━━━━━━━━━━━━━━━━\u001b[0m\u001b[37m\u001b[0m \u001b[1m56s\u001b[0m 118ms/step - accuracy: 0.8297 - auc: 0.9130 - loss: 0.3720 - val_accuracy: 0.9286 - val_auc: 0.9830 - val_loss: 0.1782\n",
            "Epoch 2/5\n",
            "\u001b[1m442/442\u001b[0m \u001b[32m━━━━━━━━━━━━━━━━━━━━\u001b[0m\u001b[37m\u001b[0m \u001b[1m44s\u001b[0m 100ms/step - accuracy: 0.9647 - auc: 0.9930 - loss: 0.0982 - val_accuracy: 0.9306 - val_auc: 0.9844 - val_loss: 0.1947\n",
            "\n",
            "CNN kernel=3 | Test Accuracy: 0.9357 | Test F1: 0.9322\n",
            "\n",
            "Classification Report:\n",
            "               precision    recall  f1-score   support\n",
            "\n",
            "     WELLNESS       0.91      0.97      0.94      1795\n",
            "ENTERTAINMENT       0.97      0.90      0.93      1736\n",
            "\n",
            "     accuracy                           0.94      3531\n",
            "    macro avg       0.94      0.94      0.94      3531\n",
            " weighted avg       0.94      0.94      0.94      3531\n",
            "\n",
            "Epoch 1/5\n",
            "\u001b[1m442/442\u001b[0m \u001b[32m━━━━━━━━━━━━━━━━━━━━\u001b[0m\u001b[37m\u001b[0m \u001b[1m56s\u001b[0m 121ms/step - accuracy: 0.8472 - auc: 0.9174 - loss: 0.3623 - val_accuracy: 0.9332 - val_auc: 0.9832 - val_loss: 0.1672\n",
            "Epoch 2/5\n",
            "\u001b[1m442/442\u001b[0m \u001b[32m━━━━━━━━━━━━━━━━━━━━\u001b[0m\u001b[37m\u001b[0m \u001b[1m56s\u001b[0m 126ms/step - accuracy: 0.9672 - auc: 0.9943 - loss: 0.0901 - val_accuracy: 0.9402 - val_auc: 0.9844 - val_loss: 0.1612\n",
            "Epoch 3/5\n",
            "\u001b[1m442/442\u001b[0m \u001b[32m━━━━━━━━━━━━━━━━━━━━\u001b[0m\u001b[37m\u001b[0m \u001b[1m53s\u001b[0m 120ms/step - accuracy: 0.9930 - auc: 0.9992 - loss: 0.0265 - val_accuracy: 0.9388 - val_auc: 0.9800 - val_loss: 0.2119\n",
            "\n",
            "CNN kernel=4 | Test Accuracy: 0.9459 | Test F1: 0.9441\n",
            "\n",
            "Classification Report:\n",
            "               precision    recall  f1-score   support\n",
            "\n",
            "     WELLNESS       0.93      0.96      0.95      1795\n",
            "ENTERTAINMENT       0.96      0.93      0.94      1736\n",
            "\n",
            "     accuracy                           0.95      3531\n",
            "    macro avg       0.95      0.95      0.95      3531\n",
            " weighted avg       0.95      0.95      0.95      3531\n",
            "\n",
            "Epoch 1/5\n",
            "\u001b[1m442/442\u001b[0m \u001b[32m━━━━━━━━━━━━━━━━━━━━\u001b[0m\u001b[37m\u001b[0m \u001b[1m65s\u001b[0m 135ms/step - accuracy: 0.8423 - auc: 0.9184 - loss: 0.3587 - val_accuracy: 0.9368 - val_auc: 0.9837 - val_loss: 0.1639\n",
            "Epoch 2/5\n",
            "\u001b[1m442/442\u001b[0m \u001b[32m━━━━━━━━━━━━━━━━━━━━\u001b[0m\u001b[37m\u001b[0m \u001b[1m43s\u001b[0m 97ms/step - accuracy: 0.9689 - auc: 0.9943 - loss: 0.0906 - val_accuracy: 0.9425 - val_auc: 0.9829 - val_loss: 0.1740\n",
            "\n",
            "CNN kernel=5 | Test Accuracy: 0.9419 | Test F1: 0.9410\n",
            "\n",
            "Classification Report:\n",
            "               precision    recall  f1-score   support\n",
            "\n",
            "     WELLNESS       0.94      0.94      0.94      1795\n",
            "ENTERTAINMENT       0.94      0.94      0.94      1736\n",
            "\n",
            "     accuracy                           0.94      3531\n",
            "    macro avg       0.94      0.94      0.94      3531\n",
            " weighted avg       0.94      0.94      0.94      3531\n",
            "\n"
          ]
        }
      ],
      "source": [
        "EPOCHS = 5\n",
        "early = tf.keras.callbacks.EarlyStopping(monitor=\"val_loss\", patience=1, restore_best_weights=True)\n",
        "\n",
        "def train_and_eval(build_fn, name):\n",
        "    model = build_fn()\n",
        "    history = model.fit(train_ds, validation_data=val_ds, epochs=EPOCHS, callbacks=[early], verbose=1)\n",
        "    # evaluación\n",
        "    y_prob = model.predict(test_ds, verbose=0).ravel()\n",
        "    y_pred = (y_prob >= 0.5).astype(int)\n",
        "    acc = accuracy_score(y_test, y_pred)\n",
        "    f1 = f1_score(y_test, y_pred)\n",
        "    print(f\"\\n{name} | Test Accuracy: {acc:.4f} | Test F1: {f1:.4f}\")\n",
        "    print(\"\\nClassification Report:\")\n",
        "    print(classification_report(y_test, y_pred, target_names=[\"WELLNESS\",\"ENTERTAINMENT\"]))\n",
        "    return name, acc, f1, history\n",
        "\n",
        "results = []\n",
        "for fn, nm in [(build_cnn_k3, \"CNN kernel=3\"),\n",
        "               (build_cnn_k4, \"CNN kernel=4\"),\n",
        "               (build_cnn_k5, \"CNN kernel=5\")]:\n",
        "    results.append(train_and_eval(fn, nm))"
      ]
    },
    {
      "cell_type": "code",
      "execution_count": 21,
      "metadata": {},
      "outputs": [
        {
          "name": "stdout",
          "output_type": "stream",
          "text": [
            "\n",
            "Resumen (ordenado por F1):\n",
            "      Modelo  Accuracy       F1\n",
            "CNN kernel=4  0.945908 0.944103\n",
            "CNN kernel=5  0.941943 0.941041\n",
            "CNN kernel=3  0.935712 0.932219\n"
          ]
        }
      ],
      "source": [
        "summary = pd.DataFrame([{\"Modelo\":n, \"Accuracy\":acc, \"F1\":f1} for (n,acc,f1,_) in results]).sort_values(\"F1\", ascending=False)\n",
        "print(\"\\nResumen (ordenado por F1):\")\n",
        "print(summary.to_string(index=False))"
      ]
    },
    {
      "cell_type": "markdown",
      "metadata": {
        "id": "0CUzcKDqF0wJ"
      },
      "source": [
        "**Ejercicio 3**\n",
        "Debe de discutir sus resultados y realizar una comparacion de porque varia dependiendo del filtro que se use"
      ]
    },
    {
      "cell_type": "markdown",
      "metadata": {},
      "source": [
        "Se entrenaron tres CNNs idénticas variando únicamente el tamaño del kernel de la capa Conv1D (k=3, 4, 5). Cada configuración procesa textos tokenizados y vectorizados con TextVectorization, aplica GlobalMaxPooling1D (detectores de patrón independientes de la posición) y una capa densa final con activación sigmoide para clasificación binaria (WELLNESS vs ENTERTAINMENT). Se utilizó early stopping sobre val_loss.\n",
        "\n",
        "Al ver el tamaño de los kernels y la longitud típica de señales se puede concluir que en ENTERTAINMENT son frecuentes nombres propios, títulos y frases compuestas; k=4–5 capta mejor estos patrones más largos y específicos, elevando su recall respecto a k=3 (de 0.90 a 0.93–0.94).\n",
        "\n",
        "En WELLNESS abundan expresiones breves y términos genéricos (“yoga”, “mental health”, “tips for…”); k=3 es suficiente para activarlas, logrando el recall más alto (0.97).\n",
        "\n",
        "Algo importante de destacar es que con el Kernel más corto con k=3, los patrones son más generales aumentando el recall en WELNESS y aumenta las confusiones en ENTERTAINMENT ya que baja su recall. En cambio conforme se aumenta el kernel, los patrones son más específicos al equilibrar clases y reducir falsas activaciones.\n",
        "\n",
        "Al pensar en el balance global y la generalización entre los modelos, el que ha sido con kernel k=4 ofrece mejor \"compromiso\" al ser el que tiene mejor F1."
      ]
    }
  ],
  "metadata": {
    "colab": {
      "include_colab_link": true,
      "provenance": []
    },
    "kernelspec": {
      "display_name": "Python 3",
      "name": "python3"
    },
    "language_info": {
      "codemirror_mode": {
        "name": "ipython",
        "version": 3
      },
      "file_extension": ".py",
      "mimetype": "text/x-python",
      "name": "python",
      "nbconvert_exporter": "python",
      "pygments_lexer": "ipython3",
      "version": "3.12.3"
    }
  },
  "nbformat": 4,
  "nbformat_minor": 0
}
