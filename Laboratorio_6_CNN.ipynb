{
  "nbformat": 4,
  "nbformat_minor": 0,
  "metadata": {
    "colab": {
      "provenance": [],
      "include_colab_link": true
    },
    "kernelspec": {
      "name": "python3",
      "display_name": "Python 3"
    },
    "language_info": {
      "name": "python"
    }
  },
  "cells": [
    {
      "cell_type": "markdown",
      "metadata": {
        "id": "view-in-github",
        "colab_type": "text"
      },
      "source": [
        "<a href=\"https://colab.research.google.com/github/gua21150/CC3103-NLP/blob/main/Laboratorio_6_CNN.ipynb\" target=\"_parent\"><img src=\"https://colab.research.google.com/assets/colab-badge.svg\" alt=\"Open In Colab\"/></a>"
      ]
    },
    {
      "cell_type": "markdown",
      "source": [
        "NOMBRES:\n",
        "\n",
        "APELLIDOS:\n",
        "\n",
        "CARNE:\n",
        "\n",
        "FECHA:"
      ],
      "metadata": {
        "id": "zXhjY9dGwJls"
      }
    },
    {
      "cell_type": "markdown",
      "source": [
        "**Ejercicio 1**\n",
        "Cree un dataset con noticias (Pueden ser falsas) para poder clasificarlas por categoria (Recomiendo que sea binaria para su comodidad)"
      ],
      "metadata": {
        "id": "n7nnvCPLh5Ms"
      }
    },
    {
      "cell_type": "code",
      "source": [],
      "metadata": {
        "id": "r3aTZXJeiFAI"
      },
      "execution_count": null,
      "outputs": []
    },
    {
      "cell_type": "code",
      "source": [],
      "metadata": {
        "id": "Hf3GX1_liFXd"
      },
      "execution_count": null,
      "outputs": []
    },
    {
      "cell_type": "markdown",
      "source": [
        "**Ejercicio 2**\n",
        " En base al dataset creado anteriormente Realizar una CNN para poder clasificarla de manera automatica, debe de realizarla con 3 filtros y dejar cada una de ellas como una implementacion nuevo por lo que recomiendo trabajarlo por funciones"
      ],
      "metadata": {
        "id": "fzRf6sNDiF1v"
      }
    },
    {
      "cell_type": "code",
      "source": [],
      "metadata": {
        "id": "WUUiX7oBffZg"
      },
      "execution_count": null,
      "outputs": []
    },
    {
      "cell_type": "markdown",
      "source": [],
      "metadata": {
        "id": "YQgZBTIMF0ts"
      }
    },
    {
      "cell_type": "markdown",
      "source": [
        "**Ejercicio 3**\n",
        "Debe de discutir sus resultados y realizar una comparacion de porque varia dependiendo del filtro que se use"
      ],
      "metadata": {
        "id": "0CUzcKDqF0wJ"
      }
    },
    {
      "cell_type": "code",
      "source": [],
      "metadata": {
        "id": "VhKVuJV5F9Dx"
      },
      "execution_count": null,
      "outputs": []
    }
  ]
}