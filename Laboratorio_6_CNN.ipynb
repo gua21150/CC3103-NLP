{
  "nbformat": 4,
  "nbformat_minor": 0,
  "metadata": {
    "colab": {
      "provenance": [],
      "include_colab_link": true
    },
    "kernelspec": {
      "name": "python3",
      "display_name": "Python 3"
    },
    "language_info": {
      "name": "python"
    }
  },
  "cells": [
    {
      "cell_type": "markdown",
      "metadata": {
        "id": "view-in-github",
        "colab_type": "text"
      },
      "source": [
        "<a href=\"https://colab.research.google.com/github/gua21150/CC3103-NLP/blob/main/Laboratorio_6_CNN.ipynb\" target=\"_parent\"><img src=\"https://colab.research.google.com/assets/colab-badge.svg\" alt=\"Open In Colab\"/></a>"
      ]
    },
    {
      "cell_type": "markdown",
      "source": [
        "NOMBRES: Mariel Alejandra\n",
        "\n",
        "APELLIDOS: Guamuche Recinos\n",
        "\n",
        "CARNE: 21150\n",
        "\n",
        "FECHA: 15/09/2025"
      ],
      "metadata": {
        "id": "zXhjY9dGwJls"
      }
    },
    {
      "cell_type": "markdown",
      "source": [
        "**Ejercicio 1**\n",
        "Cree un dataset con noticias (Pueden ser falsas) para poder clasificarlas por categoria (Recomiendo que sea binaria para su comodidad)"
      ],
      "metadata": {
        "id": "n7nnvCPLh5Ms"
      }
    },
    {
      "cell_type": "code",
      "source": [
        "import pandas as pd\n",
        "\n",
        "# Create a synthetic dataset\n",
        "data = {\n",
        "    'title': [\n",
        "        'Breaking News: Local Election Results Announced',\n",
        "        'Science Breakthrough: New Material Discovered',\n",
        "        'Politics: Debate on New Tax Bill',\n",
        "        'Technology: AI Advancement in Healthcare',\n",
        "        'Local News: Community Garden Project Starts',\n",
        "        'Science: Study Shows Climate Change Impact',\n",
        "        'Politics: Presidential Candidate Speech',\n",
        "        'Technology: Release of New Smartphone',\n",
        "        'Local News: School Fair This Weekend',\n",
        "        'Science: Exploring the Depths of the Ocean'\n",
        "    ],\n",
        "    'category': [\n",
        "        'Politics/Local',\n",
        "        'Science/Technology',\n",
        "        'Politics/Local',\n",
        "        'Science/Technology',\n",
        "        'Politics/Local',\n",
        "        'Science/Technology',\n",
        "        'Politics/Local',\n",
        "        'Science/Technology',\n",
        "        'Politics/Local',\n",
        "        'Science/Technology'\n",
        "    ],\n",
        "    'content': [\n",
        "        'The results of the local elections are in...',\n",
        "        'Researchers have announced a new material with unique properties...',\n",
        "        'The debate on the proposed tax bill is underway in Congress...',\n",
        "        'Artificial intelligence is making significant strides in healthcare applications...',\n",
        "        'Volunteers gathered today to start building the new community garden...',\n",
        "        'A new study provides further evidence of climate change...',\n",
        "        'The presidential candidate delivered a speech outlining their platform...',\n",
        "        'The latest smartphone model was released today...',\n",
        "        'The annual school fair is scheduled for this weekend...',\n",
        "        'A team of scientists is exploring the deepest parts of the ocean...'\n",
        "    ]\n",
        "}\n",
        "\n",
        "df = pd.DataFrame(data)\n",
        "\n",
        "# Display the dataset\n",
        "display(df)"
      ],
      "metadata": {
        "id": "r3aTZXJeiFAI"
      },
      "execution_count": null,
      "outputs": []
    },
    {
      "cell_type": "code",
      "source": [],
      "metadata": {
        "id": "Hf3GX1_liFXd"
      },
      "execution_count": null,
      "outputs": []
    },
    {
      "cell_type": "markdown",
      "source": [
        "**Ejercicio 2**\n",
        " En base al dataset creado anteriormente Realizar una CNN para poder clasificarla de manera automatica, debe de realizarla con 3 filtros y dejar cada una de ellas como una implementacion nuevo por lo que recomiendo trabajarlo por funciones"
      ],
      "metadata": {
        "id": "fzRf6sNDiF1v"
      }
    },
    {
      "cell_type": "code",
      "source": [],
      "metadata": {
        "id": "WUUiX7oBffZg"
      },
      "execution_count": null,
      "outputs": []
    },
    {
      "cell_type": "markdown",
      "source": [],
      "metadata": {
        "id": "YQgZBTIMF0ts"
      }
    },
    {
      "cell_type": "markdown",
      "source": [
        "**Ejercicio 3**\n",
        "Debe de discutir sus resultados y realizar una comparacion de porque varia dependiendo del filtro que se use"
      ],
      "metadata": {
        "id": "0CUzcKDqF0wJ"
      }
    },
    {
      "cell_type": "code",
      "source": [],
      "metadata": {
        "id": "VhKVuJV5F9Dx"
      },
      "execution_count": null,
      "outputs": []
    }
  ]
}